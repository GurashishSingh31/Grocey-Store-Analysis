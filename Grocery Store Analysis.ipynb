{
 "cells": [
  {
   "cell_type": "code",
   "execution_count": 1,
   "id": "87009611",
   "metadata": {},
   "outputs": [
    {
     "name": "stdout",
     "output_type": "stream",
     "text": [
      "Requirement already satisfied: xgboost in c:\\users\\public\\anaconda\\lib\\site-packages (1.7.5)\n",
      "Requirement already satisfied: scipy in c:\\users\\public\\anaconda\\lib\\site-packages (from xgboost) (1.9.1)\n",
      "Requirement already satisfied: numpy in c:\\users\\public\\anaconda\\lib\\site-packages (from xgboost) (1.21.5)\n",
      "Requirement already satisfied: lightgbm in c:\\users\\public\\anaconda\\lib\\site-packages (3.3.5)\n",
      "Requirement already satisfied: wheel in c:\\users\\public\\anaconda\\lib\\site-packages (from lightgbm) (0.37.1)\n",
      "Requirement already satisfied: scipy in c:\\users\\public\\anaconda\\lib\\site-packages (from lightgbm) (1.9.1)\n",
      "Requirement already satisfied: numpy in c:\\users\\public\\anaconda\\lib\\site-packages (from lightgbm) (1.21.5)\n",
      "Requirement already satisfied: scikit-learn!=0.22.0 in c:\\users\\public\\anaconda\\lib\\site-packages (from lightgbm) (1.0.2)\n",
      "Requirement already satisfied: threadpoolctl>=2.0.0 in c:\\users\\public\\anaconda\\lib\\site-packages (from scikit-learn!=0.22.0->lightgbm) (2.2.0)\n",
      "Requirement already satisfied: joblib>=0.11 in c:\\users\\public\\anaconda\\lib\\site-packages (from scikit-learn!=0.22.0->lightgbm) (1.1.0)\n"
     ]
    }
   ],
   "source": [
    "import pandas as pd\n",
    "import seaborn as sns\n",
    "import matplotlib.pyplot as plt\n",
    "from scipy.stats import mode\n",
    "import numpy as np\n",
    "from sklearn.preprocessing import OrdinalEncoder\n",
    "from sklearn.pipeline import make_pipeline\n",
    "from sklearn.compose import make_column_transformer\n",
    "from sklearn.compose import make_column_selector\n",
    "from sklearn.feature_extraction import FeatureHasher\n",
    "from sklearn.metrics import r2_score,mean_squared_error\n",
    "from xgboost import plot_importance\n",
    "!pip install xgboost\n",
    "!pip install lightgbm"
   ]
  },
  {
   "cell_type": "code",
   "execution_count": 2,
   "id": "98d85b18",
   "metadata": {},
   "outputs": [],
   "source": [
    "salesdf = pd.read_csv('sales_prediction.csv')"
   ]
  },
  {
   "cell_type": "code",
   "execution_count": 3,
   "id": "8a8ec483",
   "metadata": {},
   "outputs": [
    {
     "data": {
      "text/html": [
       "<div>\n",
       "<style scoped>\n",
       "    .dataframe tbody tr th:only-of-type {\n",
       "        vertical-align: middle;\n",
       "    }\n",
       "\n",
       "    .dataframe tbody tr th {\n",
       "        vertical-align: top;\n",
       "    }\n",
       "\n",
       "    .dataframe thead th {\n",
       "        text-align: right;\n",
       "    }\n",
       "</style>\n",
       "<table border=\"1\" class=\"dataframe\">\n",
       "  <thead>\n",
       "    <tr style=\"text-align: right;\">\n",
       "      <th></th>\n",
       "      <th>Item_Identifier</th>\n",
       "      <th>Item_Weight</th>\n",
       "      <th>Item_Fat_Content</th>\n",
       "      <th>Item_Visibility</th>\n",
       "      <th>Item_Type</th>\n",
       "      <th>Item_MRP</th>\n",
       "      <th>Outlet_Identifier</th>\n",
       "      <th>Outlet_Establishment_Year</th>\n",
       "      <th>Outlet_Size</th>\n",
       "      <th>Outlet_Location_Type</th>\n",
       "      <th>Outlet_Type</th>\n",
       "      <th>Item_Outlet_Sales</th>\n",
       "    </tr>\n",
       "  </thead>\n",
       "  <tbody>\n",
       "    <tr>\n",
       "      <th>0</th>\n",
       "      <td>FDA15</td>\n",
       "      <td>9.30</td>\n",
       "      <td>Low Fat</td>\n",
       "      <td>0.016047</td>\n",
       "      <td>Dairy</td>\n",
       "      <td>249.8092</td>\n",
       "      <td>OUT049</td>\n",
       "      <td>1999</td>\n",
       "      <td>Medium</td>\n",
       "      <td>Tier 1</td>\n",
       "      <td>Supermarket Type1</td>\n",
       "      <td>3735.1380</td>\n",
       "    </tr>\n",
       "    <tr>\n",
       "      <th>1</th>\n",
       "      <td>DRC01</td>\n",
       "      <td>5.92</td>\n",
       "      <td>Regular</td>\n",
       "      <td>0.019278</td>\n",
       "      <td>Soft Drinks</td>\n",
       "      <td>48.2692</td>\n",
       "      <td>OUT018</td>\n",
       "      <td>2009</td>\n",
       "      <td>Medium</td>\n",
       "      <td>Tier 3</td>\n",
       "      <td>Supermarket Type2</td>\n",
       "      <td>443.4228</td>\n",
       "    </tr>\n",
       "    <tr>\n",
       "      <th>2</th>\n",
       "      <td>FDN15</td>\n",
       "      <td>17.50</td>\n",
       "      <td>Low Fat</td>\n",
       "      <td>0.016760</td>\n",
       "      <td>Meat</td>\n",
       "      <td>141.6180</td>\n",
       "      <td>OUT049</td>\n",
       "      <td>1999</td>\n",
       "      <td>Medium</td>\n",
       "      <td>Tier 1</td>\n",
       "      <td>Supermarket Type1</td>\n",
       "      <td>2097.2700</td>\n",
       "    </tr>\n",
       "    <tr>\n",
       "      <th>3</th>\n",
       "      <td>FDX07</td>\n",
       "      <td>19.20</td>\n",
       "      <td>Regular</td>\n",
       "      <td>0.000000</td>\n",
       "      <td>Fruits and Vegetables</td>\n",
       "      <td>182.0950</td>\n",
       "      <td>OUT010</td>\n",
       "      <td>1998</td>\n",
       "      <td>NaN</td>\n",
       "      <td>Tier 3</td>\n",
       "      <td>Grocery Store</td>\n",
       "      <td>732.3800</td>\n",
       "    </tr>\n",
       "    <tr>\n",
       "      <th>4</th>\n",
       "      <td>NCD19</td>\n",
       "      <td>8.93</td>\n",
       "      <td>Low Fat</td>\n",
       "      <td>0.000000</td>\n",
       "      <td>Household</td>\n",
       "      <td>53.8614</td>\n",
       "      <td>OUT013</td>\n",
       "      <td>1987</td>\n",
       "      <td>High</td>\n",
       "      <td>Tier 3</td>\n",
       "      <td>Supermarket Type1</td>\n",
       "      <td>994.7052</td>\n",
       "    </tr>\n",
       "  </tbody>\n",
       "</table>\n",
       "</div>"
      ],
      "text/plain": [
       "  Item_Identifier  Item_Weight Item_Fat_Content  Item_Visibility  \\\n",
       "0           FDA15         9.30          Low Fat         0.016047   \n",
       "1           DRC01         5.92          Regular         0.019278   \n",
       "2           FDN15        17.50          Low Fat         0.016760   \n",
       "3           FDX07        19.20          Regular         0.000000   \n",
       "4           NCD19         8.93          Low Fat         0.000000   \n",
       "\n",
       "               Item_Type  Item_MRP Outlet_Identifier  \\\n",
       "0                  Dairy  249.8092            OUT049   \n",
       "1            Soft Drinks   48.2692            OUT018   \n",
       "2                   Meat  141.6180            OUT049   \n",
       "3  Fruits and Vegetables  182.0950            OUT010   \n",
       "4              Household   53.8614            OUT013   \n",
       "\n",
       "   Outlet_Establishment_Year Outlet_Size Outlet_Location_Type  \\\n",
       "0                       1999      Medium               Tier 1   \n",
       "1                       2009      Medium               Tier 3   \n",
       "2                       1999      Medium               Tier 1   \n",
       "3                       1998         NaN               Tier 3   \n",
       "4                       1987        High               Tier 3   \n",
       "\n",
       "         Outlet_Type  Item_Outlet_Sales  \n",
       "0  Supermarket Type1          3735.1380  \n",
       "1  Supermarket Type2           443.4228  \n",
       "2  Supermarket Type1          2097.2700  \n",
       "3      Grocery Store           732.3800  \n",
       "4  Supermarket Type1           994.7052  "
      ]
     },
     "execution_count": 3,
     "metadata": {},
     "output_type": "execute_result"
    }
   ],
   "source": [
    "salesdf.head()"
   ]
  },
  {
   "cell_type": "code",
   "execution_count": 4,
   "id": "ac4b074c",
   "metadata": {},
   "outputs": [
    {
     "name": "stdout",
     "output_type": "stream",
     "text": [
      "Item_Identifier                 0\n",
      "Item_Weight                  1463\n",
      "Item_Fat_Content                0\n",
      "Item_Visibility                 0\n",
      "Item_Type                       0\n",
      "Item_MRP                        0\n",
      "Outlet_Identifier               0\n",
      "Outlet_Establishment_Year       0\n",
      "Outlet_Size                  2410\n",
      "Outlet_Location_Type            0\n",
      "Outlet_Type                     0\n",
      "Item_Outlet_Sales               0\n",
      "dtype: int64\n"
     ]
    }
   ],
   "source": [
    "print(salesdf.isnull().sum())"
   ]
  },
  {
   "cell_type": "code",
   "execution_count": 5,
   "id": "a404b04e",
   "metadata": {},
   "outputs": [],
   "source": [
    "#Splitting the input and output columns\n",
    "X = salesdf.drop(columns=['Item_Outlet_Sales'])\n",
    "Y = salesdf['Item_Outlet_Sales']"
   ]
  },
  {
   "cell_type": "code",
   "execution_count": 6,
   "id": "ae3339c3",
   "metadata": {},
   "outputs": [],
   "source": [
    "#Splitting the data into Test and Train\n",
    "\n",
    "from sklearn.model_selection import train_test_split\n",
    "\n",
    "X_train, X_test, Y_train, Y_test = train_test_split(X, Y, test_size=0.3, random_state=42)\n"
   ]
  },
  {
   "cell_type": "code",
   "execution_count": 7,
   "id": "718dd068",
   "metadata": {},
   "outputs": [
    {
     "data": {
      "text/plain": [
       "((5966, 11), (2557, 11))"
      ]
     },
     "execution_count": 7,
     "metadata": {},
     "output_type": "execute_result"
    }
   ],
   "source": [
    "X_train.shape, X_test.shape"
   ]
  },
  {
   "cell_type": "code",
   "execution_count": 8,
   "id": "06f89634",
   "metadata": {},
   "outputs": [],
   "source": [
    "#making a copy of the data for exploration\n",
    "\n",
    "X_train_c = X_train.copy()"
   ]
  },
  {
   "cell_type": "code",
   "execution_count": 9,
   "id": "86ebadaf",
   "metadata": {},
   "outputs": [
    {
     "name": "stdout",
     "output_type": "stream",
     "text": [
      "<class 'pandas.core.frame.DataFrame'>\n",
      "Int64Index: 5966 entries, 1921 to 7270\n",
      "Data columns (total 11 columns):\n",
      " #   Column                     Non-Null Count  Dtype  \n",
      "---  ------                     --------------  -----  \n",
      " 0   Item_Identifier            5966 non-null   object \n",
      " 1   Item_Weight                4943 non-null   float64\n",
      " 2   Item_Fat_Content           5966 non-null   object \n",
      " 3   Item_Visibility            5966 non-null   float64\n",
      " 4   Item_Type                  5966 non-null   object \n",
      " 5   Item_MRP                   5966 non-null   float64\n",
      " 6   Outlet_Identifier          5966 non-null   object \n",
      " 7   Outlet_Establishment_Year  5966 non-null   int64  \n",
      " 8   Outlet_Size                4276 non-null   object \n",
      " 9   Outlet_Location_Type       5966 non-null   object \n",
      " 10  Outlet_Type                5966 non-null   object \n",
      "dtypes: float64(3), int64(1), object(7)\n",
      "memory usage: 559.3+ KB\n"
     ]
    }
   ],
   "source": [
    "X_train_c.info()"
   ]
  },
  {
   "cell_type": "code",
   "execution_count": 10,
   "id": "6e6b2611",
   "metadata": {},
   "outputs": [
    {
     "data": {
      "text/plain": [
       "Item_Identifier                 0\n",
       "Item_Weight                  1023\n",
       "Item_Fat_Content                0\n",
       "Item_Visibility                 0\n",
       "Item_Type                       0\n",
       "Item_MRP                        0\n",
       "Outlet_Identifier               0\n",
       "Outlet_Establishment_Year       0\n",
       "Outlet_Size                  1690\n",
       "Outlet_Location_Type            0\n",
       "Outlet_Type                     0\n",
       "dtype: int64"
      ]
     },
     "execution_count": 10,
     "metadata": {},
     "output_type": "execute_result"
    }
   ],
   "source": [
    "X_train_c.isnull().sum()"
   ]
  },
  {
   "cell_type": "code",
   "execution_count": 11,
   "id": "b1daf09e",
   "metadata": {},
   "outputs": [
    {
     "data": {
      "text/html": [
       "<div>\n",
       "<style scoped>\n",
       "    .dataframe tbody tr th:only-of-type {\n",
       "        vertical-align: middle;\n",
       "    }\n",
       "\n",
       "    .dataframe tbody tr th {\n",
       "        vertical-align: top;\n",
       "    }\n",
       "\n",
       "    .dataframe thead th {\n",
       "        text-align: right;\n",
       "    }\n",
       "</style>\n",
       "<table border=\"1\" class=\"dataframe\">\n",
       "  <thead>\n",
       "    <tr style=\"text-align: right;\">\n",
       "      <th></th>\n",
       "      <th>Item_Weight</th>\n",
       "      <th>Item_Visibility</th>\n",
       "      <th>Item_MRP</th>\n",
       "      <th>Outlet_Establishment_Year</th>\n",
       "    </tr>\n",
       "  </thead>\n",
       "  <tbody>\n",
       "    <tr>\n",
       "      <th>1921</th>\n",
       "      <td>7.72</td>\n",
       "      <td>0.147904</td>\n",
       "      <td>116.6466</td>\n",
       "      <td>1998</td>\n",
       "    </tr>\n",
       "    <tr>\n",
       "      <th>655</th>\n",
       "      <td>19.75</td>\n",
       "      <td>0.014301</td>\n",
       "      <td>103.0332</td>\n",
       "      <td>1997</td>\n",
       "    </tr>\n",
       "    <tr>\n",
       "      <th>2229</th>\n",
       "      <td>NaN</td>\n",
       "      <td>0.054221</td>\n",
       "      <td>129.1310</td>\n",
       "      <td>1985</td>\n",
       "    </tr>\n",
       "    <tr>\n",
       "      <th>2537</th>\n",
       "      <td>19.35</td>\n",
       "      <td>0.118342</td>\n",
       "      <td>222.6088</td>\n",
       "      <td>2002</td>\n",
       "    </tr>\n",
       "    <tr>\n",
       "      <th>3528</th>\n",
       "      <td>18.35</td>\n",
       "      <td>0.092150</td>\n",
       "      <td>184.8266</td>\n",
       "      <td>1987</td>\n",
       "    </tr>\n",
       "  </tbody>\n",
       "</table>\n",
       "</div>"
      ],
      "text/plain": [
       "      Item_Weight  Item_Visibility  Item_MRP  Outlet_Establishment_Year\n",
       "1921         7.72         0.147904  116.6466                       1998\n",
       "655         19.75         0.014301  103.0332                       1997\n",
       "2229          NaN         0.054221  129.1310                       1985\n",
       "2537        19.35         0.118342  222.6088                       2002\n",
       "3528        18.35         0.092150  184.8266                       1987"
      ]
     },
     "execution_count": 11,
     "metadata": {},
     "output_type": "execute_result"
    }
   ],
   "source": [
    "#Excluding the object data type\n",
    "\n",
    "num_data = X_train_c.select_dtypes(exclude=['object'])\n",
    "num_data.head()"
   ]
  },
  {
   "cell_type": "code",
   "execution_count": 12,
   "id": "3fe37c3f",
   "metadata": {},
   "outputs": [
    {
     "data": {
      "text/html": [
       "<div>\n",
       "<style scoped>\n",
       "    .dataframe tbody tr th:only-of-type {\n",
       "        vertical-align: middle;\n",
       "    }\n",
       "\n",
       "    .dataframe tbody tr th {\n",
       "        vertical-align: top;\n",
       "    }\n",
       "\n",
       "    .dataframe thead th {\n",
       "        text-align: right;\n",
       "    }\n",
       "</style>\n",
       "<table border=\"1\" class=\"dataframe\">\n",
       "  <thead>\n",
       "    <tr style=\"text-align: right;\">\n",
       "      <th></th>\n",
       "      <th>Item_Weight</th>\n",
       "      <th>Item_Visibility</th>\n",
       "      <th>Item_MRP</th>\n",
       "      <th>Outlet_Establishment_Year</th>\n",
       "    </tr>\n",
       "  </thead>\n",
       "  <tbody>\n",
       "    <tr>\n",
       "      <th>count</th>\n",
       "      <td>4943.000</td>\n",
       "      <td>5966.000</td>\n",
       "      <td>5966.000</td>\n",
       "      <td>5966.000</td>\n",
       "    </tr>\n",
       "    <tr>\n",
       "      <th>mean</th>\n",
       "      <td>12.937</td>\n",
       "      <td>0.066</td>\n",
       "      <td>141.814</td>\n",
       "      <td>1997.867</td>\n",
       "    </tr>\n",
       "    <tr>\n",
       "      <th>std</th>\n",
       "      <td>4.630</td>\n",
       "      <td>0.051</td>\n",
       "      <td>62.628</td>\n",
       "      <td>8.385</td>\n",
       "    </tr>\n",
       "    <tr>\n",
       "      <th>min</th>\n",
       "      <td>4.555</td>\n",
       "      <td>0.000</td>\n",
       "      <td>31.290</td>\n",
       "      <td>1985.000</td>\n",
       "    </tr>\n",
       "    <tr>\n",
       "      <th>25%</th>\n",
       "      <td>8.895</td>\n",
       "      <td>0.027</td>\n",
       "      <td>94.144</td>\n",
       "      <td>1987.000</td>\n",
       "    </tr>\n",
       "    <tr>\n",
       "      <th>50%</th>\n",
       "      <td>12.650</td>\n",
       "      <td>0.054</td>\n",
       "      <td>143.880</td>\n",
       "      <td>1999.000</td>\n",
       "    </tr>\n",
       "    <tr>\n",
       "      <th>75%</th>\n",
       "      <td>17.000</td>\n",
       "      <td>0.094</td>\n",
       "      <td>186.621</td>\n",
       "      <td>2004.000</td>\n",
       "    </tr>\n",
       "    <tr>\n",
       "      <th>max</th>\n",
       "      <td>21.350</td>\n",
       "      <td>0.328</td>\n",
       "      <td>266.888</td>\n",
       "      <td>2009.000</td>\n",
       "    </tr>\n",
       "  </tbody>\n",
       "</table>\n",
       "</div>"
      ],
      "text/plain": [
       "       Item_Weight  Item_Visibility  Item_MRP  Outlet_Establishment_Year\n",
       "count     4943.000         5966.000  5966.000                   5966.000\n",
       "mean        12.937            0.066   141.814                   1997.867\n",
       "std          4.630            0.051    62.628                      8.385\n",
       "min          4.555            0.000    31.290                   1985.000\n",
       "25%          8.895            0.027    94.144                   1987.000\n",
       "50%         12.650            0.054   143.880                   1999.000\n",
       "75%         17.000            0.094   186.621                   2004.000\n",
       "max         21.350            0.328   266.888                   2009.000"
      ]
     },
     "execution_count": 12,
     "metadata": {},
     "output_type": "execute_result"
    }
   ],
   "source": [
    "num_data.describe().round(3)"
   ]
  },
  {
   "cell_type": "code",
   "execution_count": 13,
   "id": "4206abc0",
   "metadata": {},
   "outputs": [
    {
     "data": {
      "text/plain": [
       "Item_Weight                  1023\n",
       "Item_Visibility                 0\n",
       "Item_MRP                        0\n",
       "Outlet_Establishment_Year       0\n",
       "dtype: int64"
      ]
     },
     "execution_count": 13,
     "metadata": {},
     "output_type": "execute_result"
    }
   ],
   "source": [
    "num_data.isnull().sum()"
   ]
  },
  {
   "cell_type": "code",
   "execution_count": 14,
   "id": "5714334b",
   "metadata": {},
   "outputs": [
    {
     "data": {
      "text/plain": [
       "<AxesSubplot:xlabel='Item_Weight', ylabel='Count'>"
      ]
     },
     "execution_count": 14,
     "metadata": {},
     "output_type": "execute_result"
    },
    {
     "data": {
      "image/png": "[encoded data removed]",
      "text/plain": [
       "<Figure size 600x400 with 1 Axes>"
      ]
     },
     "metadata": {},
     "output_type": "display_data"
    }
   ],
   "source": [
    "plt.figure(figsize=(6,4))\n",
    "sns.histplot(data=X_train_c, x='Item_Weight')"
   ]
  },
  {
   "cell_type": "code",
   "execution_count": 15,
   "id": "dcdb59f7",
   "metadata": {},
   "outputs": [
    {
     "data": {
      "text/plain": [
       "<AxesSubplot:ylabel='Item_Weight'>"
      ]
     },
     "execution_count": 15,
     "metadata": {},
     "output_type": "execute_result"
    },
    {
     "data": {
      "image/png": "[encoded data removed]",
      "text/plain": [
       "<Figure size 600x400 with 1 Axes>"
      ]
     },
     "metadata": {},
     "output_type": "display_data"
    }
   ],
   "source": [
    "plt.figure(figsize=(6,4))\n",
    "sns.boxplot(data=X_train_c, y='Item_Weight')"
   ]
  },
  {
   "cell_type": "code",
   "execution_count": 16,
   "id": "7237f9b3",
   "metadata": {},
   "outputs": [],
   "source": [
    "#defining a function\n",
    "\n",
    "def visualize_numeric_feature(data_frame, col_name):\n",
    "    fig,ax = plt.subplots(1,2, figsize=(12,5))\n",
    "    sns.histplot(data=data_frame, x=col_name, ax=ax[0]);\n",
    "    sns.boxplot(data=data_frame, y=col_name, ax=ax[1]);"
   ]
  },
  {
   "cell_type": "code",
   "execution_count": 17,
   "id": "57cff891",
   "metadata": {},
   "outputs": [
    {
     "data": {
      "image/png": "[encoded data removed]",
      "text/plain": [
       "<Figure size 1200x500 with 2 Axes>"
      ]
     },
     "metadata": {},
     "output_type": "display_data"
    }
   ],
   "source": [
    "visualize_numeric_feature(X_train_c, 'Item_Weight')"
   ]
  },
  {
   "cell_type": "code",
   "execution_count": 18,
   "id": "eb687915",
   "metadata": {},
   "outputs": [
    {
     "data": {
      "image/png": "[encoded data removed]",
      "text/plain": [
       "<Figure size 1200x500 with 2 Axes>"
      ]
     },
     "metadata": {},
     "output_type": "display_data"
    }
   ],
   "source": [
    "visualize_numeric_feature(X_train_c, 'Item_Visibility')"
   ]
  },
  {
   "cell_type": "code",
   "execution_count": 19,
   "id": "423bbe89",
   "metadata": {},
   "outputs": [
    {
     "data": {
      "image/png": "[encoded data removed]",
      "text/plain": [
       "<Figure size 1200x500 with 2 Axes>"
      ]
     },
     "metadata": {},
     "output_type": "display_data"
    }
   ],
   "source": [
    "visualize_numeric_feature(X_train_c, 'Item_MRP')"
   ]
  },
  {
   "cell_type": "code",
   "execution_count": 20,
   "id": "265eb1e7",
   "metadata": {},
   "outputs": [
    {
     "data": {
      "image/png": "[encoded data removed]",
      "text/plain": [
       "<Figure size 640x480 with 1 Axes>"
      ]
     },
     "metadata": {},
     "output_type": "display_data"
    }
   ],
   "source": [
    "sns.countplot(data=X_train_c, x='Outlet_Establishment_Year');"
   ]
  },
  {
   "cell_type": "code",
   "execution_count": 21,
   "id": "dd98d053",
   "metadata": {},
   "outputs": [
    {
     "data": {
      "text/html": [
       "<div>\n",
       "<style scoped>\n",
       "    .dataframe tbody tr th:only-of-type {\n",
       "        vertical-align: middle;\n",
       "    }\n",
       "\n",
       "    .dataframe tbody tr th {\n",
       "        vertical-align: top;\n",
       "    }\n",
       "\n",
       "    .dataframe thead th {\n",
       "        text-align: right;\n",
       "    }\n",
       "</style>\n",
       "<table border=\"1\" class=\"dataframe\">\n",
       "  <thead>\n",
       "    <tr style=\"text-align: right;\">\n",
       "      <th></th>\n",
       "      <th>Item_Identifier</th>\n",
       "      <th>Item_Fat_Content</th>\n",
       "      <th>Item_Type</th>\n",
       "      <th>Outlet_Identifier</th>\n",
       "      <th>Outlet_Size</th>\n",
       "      <th>Outlet_Location_Type</th>\n",
       "      <th>Outlet_Type</th>\n",
       "    </tr>\n",
       "  </thead>\n",
       "  <tbody>\n",
       "    <tr>\n",
       "      <th>1921</th>\n",
       "      <td>FDN08</td>\n",
       "      <td>Regular</td>\n",
       "      <td>Fruits and Vegetables</td>\n",
       "      <td>OUT010</td>\n",
       "      <td>NaN</td>\n",
       "      <td>Tier 3</td>\n",
       "      <td>Grocery Store</td>\n",
       "    </tr>\n",
       "    <tr>\n",
       "      <th>655</th>\n",
       "      <td>NCJ42</td>\n",
       "      <td>Low Fat</td>\n",
       "      <td>Household</td>\n",
       "      <td>OUT046</td>\n",
       "      <td>Small</td>\n",
       "      <td>Tier 1</td>\n",
       "      <td>Supermarket Type1</td>\n",
       "    </tr>\n",
       "    <tr>\n",
       "      <th>2229</th>\n",
       "      <td>FDY47</td>\n",
       "      <td>Regular</td>\n",
       "      <td>Breads</td>\n",
       "      <td>OUT027</td>\n",
       "      <td>Medium</td>\n",
       "      <td>Tier 3</td>\n",
       "      <td>Supermarket Type3</td>\n",
       "    </tr>\n",
       "    <tr>\n",
       "      <th>2537</th>\n",
       "      <td>FDN45</td>\n",
       "      <td>Low Fat</td>\n",
       "      <td>Snack Foods</td>\n",
       "      <td>OUT045</td>\n",
       "      <td>NaN</td>\n",
       "      <td>Tier 2</td>\n",
       "      <td>Supermarket Type1</td>\n",
       "    </tr>\n",
       "    <tr>\n",
       "      <th>3528</th>\n",
       "      <td>FDY16</td>\n",
       "      <td>Regular</td>\n",
       "      <td>Frozen Foods</td>\n",
       "      <td>OUT013</td>\n",
       "      <td>High</td>\n",
       "      <td>Tier 3</td>\n",
       "      <td>Supermarket Type1</td>\n",
       "    </tr>\n",
       "  </tbody>\n",
       "</table>\n",
       "</div>"
      ],
      "text/plain": [
       "     Item_Identifier Item_Fat_Content              Item_Type  \\\n",
       "1921           FDN08          Regular  Fruits and Vegetables   \n",
       "655            NCJ42          Low Fat              Household   \n",
       "2229           FDY47          Regular                 Breads   \n",
       "2537           FDN45          Low Fat            Snack Foods   \n",
       "3528           FDY16          Regular           Frozen Foods   \n",
       "\n",
       "     Outlet_Identifier Outlet_Size Outlet_Location_Type        Outlet_Type  \n",
       "1921            OUT010         NaN               Tier 3      Grocery Store  \n",
       "655             OUT046       Small               Tier 1  Supermarket Type1  \n",
       "2229            OUT027      Medium               Tier 3  Supermarket Type3  \n",
       "2537            OUT045         NaN               Tier 2  Supermarket Type1  \n",
       "3528            OUT013        High               Tier 3  Supermarket Type1  "
      ]
     },
     "execution_count": 21,
     "metadata": {},
     "output_type": "execute_result"
    }
   ],
   "source": [
    "#Categorical feautures\n",
    "cat_features = X_train_c.select_dtypes(include=['object'])\n",
    "cat_features.head()"
   ]
  },
  {
   "cell_type": "code",
   "execution_count": 22,
   "id": "137399de",
   "metadata": {},
   "outputs": [
    {
     "data": {
      "text/html": [
       "<div>\n",
       "<style scoped>\n",
       "    .dataframe tbody tr th:only-of-type {\n",
       "        vertical-align: middle;\n",
       "    }\n",
       "\n",
       "    .dataframe tbody tr th {\n",
       "        vertical-align: top;\n",
       "    }\n",
       "\n",
       "    .dataframe thead th {\n",
       "        text-align: right;\n",
       "    }\n",
       "</style>\n",
       "<table border=\"1\" class=\"dataframe\">\n",
       "  <thead>\n",
       "    <tr style=\"text-align: right;\">\n",
       "      <th></th>\n",
       "      <th>Item_Identifier</th>\n",
       "      <th>Item_Fat_Content</th>\n",
       "      <th>Item_Type</th>\n",
       "      <th>Outlet_Identifier</th>\n",
       "      <th>Outlet_Size</th>\n",
       "      <th>Outlet_Location_Type</th>\n",
       "      <th>Outlet_Type</th>\n",
       "    </tr>\n",
       "  </thead>\n",
       "  <tbody>\n",
       "    <tr>\n",
       "      <th>count</th>\n",
       "      <td>5966</td>\n",
       "      <td>5966</td>\n",
       "      <td>5966</td>\n",
       "      <td>5966</td>\n",
       "      <td>4276</td>\n",
       "      <td>5966</td>\n",
       "      <td>5966</td>\n",
       "    </tr>\n",
       "    <tr>\n",
       "      <th>unique</th>\n",
       "      <td>1543</td>\n",
       "      <td>5</td>\n",
       "      <td>16</td>\n",
       "      <td>10</td>\n",
       "      <td>3</td>\n",
       "      <td>3</td>\n",
       "      <td>4</td>\n",
       "    </tr>\n",
       "    <tr>\n",
       "      <th>top</th>\n",
       "      <td>NCI54</td>\n",
       "      <td>Low Fat</td>\n",
       "      <td>Fruits and Vegetables</td>\n",
       "      <td>OUT027</td>\n",
       "      <td>Medium</td>\n",
       "      <td>Tier 3</td>\n",
       "      <td>Supermarket Type1</td>\n",
       "    </tr>\n",
       "    <tr>\n",
       "      <th>freq</th>\n",
       "      <td>9</td>\n",
       "      <td>3535</td>\n",
       "      <td>905</td>\n",
       "      <td>668</td>\n",
       "      <td>1960</td>\n",
       "      <td>2367</td>\n",
       "      <td>3893</td>\n",
       "    </tr>\n",
       "  </tbody>\n",
       "</table>\n",
       "</div>"
      ],
      "text/plain": [
       "       Item_Identifier Item_Fat_Content              Item_Type  \\\n",
       "count             5966             5966                   5966   \n",
       "unique            1543                5                     16   \n",
       "top              NCI54          Low Fat  Fruits and Vegetables   \n",
       "freq                 9             3535                    905   \n",
       "\n",
       "       Outlet_Identifier Outlet_Size Outlet_Location_Type        Outlet_Type  \n",
       "count               5966        4276                 5966               5966  \n",
       "unique                10           3                    3                  4  \n",
       "top               OUT027      Medium               Tier 3  Supermarket Type1  \n",
       "freq                 668        1960                 2367               3893  "
      ]
     },
     "execution_count": 22,
     "metadata": {},
     "output_type": "execute_result"
    }
   ],
   "source": [
    "cat_features.describe()"
   ]
  },
  {
   "cell_type": "code",
   "execution_count": 23,
   "id": "c02382eb",
   "metadata": {},
   "outputs": [
    {
     "data": {
      "text/plain": [
       "Item_Identifier            0\n",
       "Item_Fat_Content           0\n",
       "Item_Type                  0\n",
       "Outlet_Identifier          0\n",
       "Outlet_Size             1690\n",
       "Outlet_Location_Type       0\n",
       "Outlet_Type                0\n",
       "dtype: int64"
      ]
     },
     "execution_count": 23,
     "metadata": {},
     "output_type": "execute_result"
    }
   ],
   "source": [
    "cat_features.isnull().sum()"
   ]
  },
  {
   "cell_type": "code",
   "execution_count": 24,
   "id": "1e3c23bd",
   "metadata": {},
   "outputs": [
    {
     "data": {
      "text/plain": [
       "NCI54    9\n",
       "FDF52    9\n",
       "FDV60    8\n",
       "FDT07    8\n",
       "NCB18    8\n",
       "        ..\n",
       "FDT47    1\n",
       "NCW42    1\n",
       "DRH59    1\n",
       "FDV14    1\n",
       "FDG28    1\n",
       "Name: Item_Identifier, Length: 1543, dtype: int64"
      ]
     },
     "execution_count": 24,
     "metadata": {},
     "output_type": "execute_result"
    }
   ],
   "source": [
    "cat_features['Item_Identifier'].value_counts()"
   ]
  },
  {
   "cell_type": "code",
   "execution_count": 25,
   "id": "66b98fe9",
   "metadata": {},
   "outputs": [
    {
     "data": {
      "text/plain": [
       "Low Fat    3535\n",
       "Regular    2027\n",
       "LF          243\n",
       "low fat      82\n",
       "reg          79\n",
       "Name: Item_Fat_Content, dtype: int64"
      ]
     },
     "execution_count": 25,
     "metadata": {},
     "output_type": "execute_result"
    }
   ],
   "source": [
    "cat_features['Item_Fat_Content'].value_counts()"
   ]
  },
  {
   "cell_type": "code",
   "execution_count": 26,
   "id": "d8bf48d7",
   "metadata": {},
   "outputs": [
    {
     "data": {
      "text/plain": [
       "Fruits and Vegetables    905\n",
       "Snack Foods              835\n",
       "Household                648\n",
       "Frozen Foods             591\n",
       "Dairy                    474\n",
       "Canned                   450\n",
       "Baking Goods             438\n",
       "Health and Hygiene       365\n",
       "Soft Drinks              305\n",
       "Meat                     275\n",
       "Hard Drinks              162\n",
       "Breads                   159\n",
       "Others                   124\n",
       "Starchy Foods            116\n",
       "Breakfast                 80\n",
       "Seafood                   39\n",
       "Name: Item_Type, dtype: int64"
      ]
     },
     "execution_count": 26,
     "metadata": {},
     "output_type": "execute_result"
    }
   ],
   "source": [
    "cat_features['Item_Type'].value_counts()"
   ]
  },
  {
   "cell_type": "code",
   "execution_count": 27,
   "id": "da4596ff",
   "metadata": {},
   "outputs": [
    {
     "data": {
      "text/plain": [
       "OUT027    668\n",
       "OUT018    661\n",
       "OUT046    656\n",
       "OUT035    656\n",
       "OUT017    652\n",
       "OUT045    649\n",
       "OUT013    649\n",
       "OUT049    631\n",
       "OUT010    389\n",
       "OUT019    355\n",
       "Name: Outlet_Identifier, dtype: int64"
      ]
     },
     "execution_count": 27,
     "metadata": {},
     "output_type": "execute_result"
    }
   ],
   "source": [
    "cat_features['Outlet_Identifier'].value_counts()"
   ]
  },
  {
   "cell_type": "code",
   "execution_count": 28,
   "id": "60407310",
   "metadata": {},
   "outputs": [
    {
     "data": {
      "text/plain": [
       "Medium    1960\n",
       "Small     1667\n",
       "High       649\n",
       "Name: Outlet_Size, dtype: int64"
      ]
     },
     "execution_count": 28,
     "metadata": {},
     "output_type": "execute_result"
    }
   ],
   "source": [
    "cat_features['Outlet_Size'].value_counts()"
   ]
  },
  {
   "cell_type": "code",
   "execution_count": 29,
   "id": "5f404360",
   "metadata": {},
   "outputs": [
    {
     "data": {
      "text/plain": [
       "Tier 3    2367\n",
       "Tier 2    1957\n",
       "Tier 1    1642\n",
       "Name: Outlet_Location_Type, dtype: int64"
      ]
     },
     "execution_count": 29,
     "metadata": {},
     "output_type": "execute_result"
    }
   ],
   "source": [
    "cat_features['Outlet_Location_Type'].value_counts()"
   ]
  },
  {
   "cell_type": "code",
   "execution_count": 30,
   "id": "dcf73c1a",
   "metadata": {},
   "outputs": [
    {
     "data": {
      "text/plain": [
       "Supermarket Type1    3893\n",
       "Grocery Store         744\n",
       "Supermarket Type3     668\n",
       "Supermarket Type2     661\n",
       "Name: Outlet_Type, dtype: int64"
      ]
     },
     "execution_count": 30,
     "metadata": {},
     "output_type": "execute_result"
    }
   ],
   "source": [
    "cat_features['Outlet_Type'].value_counts()"
   ]
  },
  {
   "cell_type": "markdown",
   "id": "0d25ce00",
   "metadata": {},
   "source": [
    "<h1> Data Wrangling + Feature Engineering"
   ]
  },
  {
   "cell_type": "markdown",
   "id": "0647a021",
   "metadata": {},
   "source": [
    "<h3> Creating a High Level Item Type"
   ]
  },
  {
   "cell_type": "code",
   "execution_count": 31,
   "id": "6c5fcf76",
   "metadata": {},
   "outputs": [
    {
     "data": {
      "text/plain": [
       "FD    4269\n",
       "NC    1137\n",
       "DR     560\n",
       "Name: Item_Identifier, dtype: int64"
      ]
     },
     "execution_count": 31,
     "metadata": {},
     "output_type": "execute_result"
    }
   ],
   "source": [
    "X_train_c['Item_Identifier'].apply(lambda x:x[:2]).value_counts()"
   ]
  },
  {
   "cell_type": "code",
   "execution_count": 32,
   "id": "08a26890",
   "metadata": {},
   "outputs": [],
   "source": [
    "#Step 1: Map the Item IDs to Item Types\n",
    "\n",
    "def create_item_type(data_frame):\n",
    "    data_frame['Item_Type'] = data_frame['Item_Identifier'].str[:2]\n",
    "    data_frame['Item_Type'] = data_frame['Item_Type'].map({\n",
    "        \t\t\t\t\t\t\t\t\t\t\t\t\t\t'FD' : 'Food',\n",
    "                                                                'NC' : 'Non_Consumables',\n",
    "                                                                'DR' : 'Drinks'})\n",
    "    return data_frame"
   ]
  },
  {
   "cell_type": "code",
   "execution_count": 33,
   "id": "ef34ae47",
   "metadata": {},
   "outputs": [
    {
     "data": {
      "text/html": [
       "<div>\n",
       "<style scoped>\n",
       "    .dataframe tbody tr th:only-of-type {\n",
       "        vertical-align: middle;\n",
       "    }\n",
       "\n",
       "    .dataframe tbody tr th {\n",
       "        vertical-align: top;\n",
       "    }\n",
       "\n",
       "    .dataframe thead th {\n",
       "        text-align: right;\n",
       "    }\n",
       "</style>\n",
       "<table border=\"1\" class=\"dataframe\">\n",
       "  <thead>\n",
       "    <tr style=\"text-align: right;\">\n",
       "      <th></th>\n",
       "      <th>Item_Identifier</th>\n",
       "      <th>Item_Weight</th>\n",
       "      <th>Item_Fat_Content</th>\n",
       "      <th>Item_Visibility</th>\n",
       "      <th>Item_Type</th>\n",
       "      <th>Item_MRP</th>\n",
       "      <th>Outlet_Identifier</th>\n",
       "      <th>Outlet_Establishment_Year</th>\n",
       "      <th>Outlet_Size</th>\n",
       "      <th>Outlet_Location_Type</th>\n",
       "      <th>Outlet_Type</th>\n",
       "    </tr>\n",
       "  </thead>\n",
       "  <tbody>\n",
       "    <tr>\n",
       "      <th>1921</th>\n",
       "      <td>FDN08</td>\n",
       "      <td>7.72</td>\n",
       "      <td>Regular</td>\n",
       "      <td>0.147904</td>\n",
       "      <td>Food</td>\n",
       "      <td>116.6466</td>\n",
       "      <td>OUT010</td>\n",
       "      <td>1998</td>\n",
       "      <td>NaN</td>\n",
       "      <td>Tier 3</td>\n",
       "      <td>Grocery Store</td>\n",
       "    </tr>\n",
       "    <tr>\n",
       "      <th>655</th>\n",
       "      <td>NCJ42</td>\n",
       "      <td>19.75</td>\n",
       "      <td>Low Fat</td>\n",
       "      <td>0.014301</td>\n",
       "      <td>Non_Consumables</td>\n",
       "      <td>103.0332</td>\n",
       "      <td>OUT046</td>\n",
       "      <td>1997</td>\n",
       "      <td>Small</td>\n",
       "      <td>Tier 1</td>\n",
       "      <td>Supermarket Type1</td>\n",
       "    </tr>\n",
       "    <tr>\n",
       "      <th>2229</th>\n",
       "      <td>FDY47</td>\n",
       "      <td>NaN</td>\n",
       "      <td>Regular</td>\n",
       "      <td>0.054221</td>\n",
       "      <td>Food</td>\n",
       "      <td>129.1310</td>\n",
       "      <td>OUT027</td>\n",
       "      <td>1985</td>\n",
       "      <td>Medium</td>\n",
       "      <td>Tier 3</td>\n",
       "      <td>Supermarket Type3</td>\n",
       "    </tr>\n",
       "    <tr>\n",
       "      <th>2537</th>\n",
       "      <td>FDN45</td>\n",
       "      <td>19.35</td>\n",
       "      <td>Low Fat</td>\n",
       "      <td>0.118342</td>\n",
       "      <td>Food</td>\n",
       "      <td>222.6088</td>\n",
       "      <td>OUT045</td>\n",
       "      <td>2002</td>\n",
       "      <td>NaN</td>\n",
       "      <td>Tier 2</td>\n",
       "      <td>Supermarket Type1</td>\n",
       "    </tr>\n",
       "    <tr>\n",
       "      <th>3528</th>\n",
       "      <td>FDY16</td>\n",
       "      <td>18.35</td>\n",
       "      <td>Regular</td>\n",
       "      <td>0.092150</td>\n",
       "      <td>Food</td>\n",
       "      <td>184.8266</td>\n",
       "      <td>OUT013</td>\n",
       "      <td>1987</td>\n",
       "      <td>High</td>\n",
       "      <td>Tier 3</td>\n",
       "      <td>Supermarket Type1</td>\n",
       "    </tr>\n",
       "  </tbody>\n",
       "</table>\n",
       "</div>"
      ],
      "text/plain": [
       "     Item_Identifier  Item_Weight Item_Fat_Content  Item_Visibility  \\\n",
       "1921           FDN08         7.72          Regular         0.147904   \n",
       "655            NCJ42        19.75          Low Fat         0.014301   \n",
       "2229           FDY47          NaN          Regular         0.054221   \n",
       "2537           FDN45        19.35          Low Fat         0.118342   \n",
       "3528           FDY16        18.35          Regular         0.092150   \n",
       "\n",
       "            Item_Type  Item_MRP Outlet_Identifier  Outlet_Establishment_Year  \\\n",
       "1921             Food  116.6466            OUT010                       1998   \n",
       "655   Non_Consumables  103.0332            OUT046                       1997   \n",
       "2229             Food  129.1310            OUT027                       1985   \n",
       "2537             Food  222.6088            OUT045                       2002   \n",
       "3528             Food  184.8266            OUT013                       1987   \n",
       "\n",
       "     Outlet_Size Outlet_Location_Type        Outlet_Type  \n",
       "1921         NaN               Tier 3      Grocery Store  \n",
       "655        Small               Tier 1  Supermarket Type1  \n",
       "2229      Medium               Tier 3  Supermarket Type3  \n",
       "2537         NaN               Tier 2  Supermarket Type1  \n",
       "3528        High               Tier 3  Supermarket Type1  "
      ]
     },
     "execution_count": 33,
     "metadata": {},
     "output_type": "execute_result"
    }
   ],
   "source": [
    "X_train_c = create_item_type(X_train_c)\n",
    "X_train_c.head()"
   ]
  },
  {
   "cell_type": "code",
   "execution_count": 34,
   "id": "f585e1b4",
   "metadata": {},
   "outputs": [
    {
     "data": {
      "text/plain": [
       "Item_Identifier                 0\n",
       "Item_Weight                  1023\n",
       "Item_Fat_Content                0\n",
       "Item_Visibility                 0\n",
       "Item_Type                       0\n",
       "Item_MRP                        0\n",
       "Outlet_Identifier               0\n",
       "Outlet_Establishment_Year       0\n",
       "Outlet_Size                  1690\n",
       "Outlet_Location_Type            0\n",
       "Outlet_Type                     0\n",
       "dtype: int64"
      ]
     },
     "execution_count": 34,
     "metadata": {},
     "output_type": "execute_result"
    }
   ],
   "source": [
    "#Step 2 Filling in missing values for Item_weight\n",
    "\n",
    "X_train_c.isnull().sum()"
   ]
  },
  {
   "cell_type": "code",
   "execution_count": 35,
   "id": "bbee7f2b",
   "metadata": {},
   "outputs": [
    {
     "data": {
      "text/html": [
       "<div>\n",
       "<style scoped>\n",
       "    .dataframe tbody tr th:only-of-type {\n",
       "        vertical-align: middle;\n",
       "    }\n",
       "\n",
       "    .dataframe tbody tr th {\n",
       "        vertical-align: top;\n",
       "    }\n",
       "\n",
       "    .dataframe thead th {\n",
       "        text-align: right;\n",
       "    }\n",
       "</style>\n",
       "<table border=\"1\" class=\"dataframe\">\n",
       "  <thead>\n",
       "    <tr style=\"text-align: right;\">\n",
       "      <th></th>\n",
       "      <th>Item_Type</th>\n",
       "      <th>Item_Weight</th>\n",
       "    </tr>\n",
       "  </thead>\n",
       "  <tbody>\n",
       "    <tr>\n",
       "      <th>2796</th>\n",
       "      <td>Drinks</td>\n",
       "      <td>5.730</td>\n",
       "    </tr>\n",
       "    <tr>\n",
       "      <th>998</th>\n",
       "      <td>Drinks</td>\n",
       "      <td>20.250</td>\n",
       "    </tr>\n",
       "    <tr>\n",
       "      <th>670</th>\n",
       "      <td>Drinks</td>\n",
       "      <td>8.395</td>\n",
       "    </tr>\n",
       "    <tr>\n",
       "      <th>6091</th>\n",
       "      <td>Drinks</td>\n",
       "      <td>13.500</td>\n",
       "    </tr>\n",
       "    <tr>\n",
       "      <th>3438</th>\n",
       "      <td>Drinks</td>\n",
       "      <td>13.850</td>\n",
       "    </tr>\n",
       "    <tr>\n",
       "      <th>...</th>\n",
       "      <td>...</td>\n",
       "      <td>...</td>\n",
       "    </tr>\n",
       "    <tr>\n",
       "      <th>6624</th>\n",
       "      <td>Non_Consumables</td>\n",
       "      <td>12.600</td>\n",
       "    </tr>\n",
       "    <tr>\n",
       "      <th>6191</th>\n",
       "      <td>Non_Consumables</td>\n",
       "      <td>8.880</td>\n",
       "    </tr>\n",
       "    <tr>\n",
       "      <th>1911</th>\n",
       "      <td>Non_Consumables</td>\n",
       "      <td>19.850</td>\n",
       "    </tr>\n",
       "    <tr>\n",
       "      <th>135</th>\n",
       "      <td>Non_Consumables</td>\n",
       "      <td>7.235</td>\n",
       "    </tr>\n",
       "    <tr>\n",
       "      <th>6255</th>\n",
       "      <td>Non_Consumables</td>\n",
       "      <td>8.970</td>\n",
       "    </tr>\n",
       "  </tbody>\n",
       "</table>\n",
       "<p>641 rows × 2 columns</p>\n",
       "</div>"
      ],
      "text/plain": [
       "            Item_Type  Item_Weight\n",
       "2796           Drinks        5.730\n",
       "998            Drinks       20.250\n",
       "670            Drinks        8.395\n",
       "6091           Drinks       13.500\n",
       "3438           Drinks       13.850\n",
       "...               ...          ...\n",
       "6624  Non_Consumables       12.600\n",
       "6191  Non_Consumables        8.880\n",
       "1911  Non_Consumables       19.850\n",
       "135   Non_Consumables        7.235\n",
       "6255  Non_Consumables        8.970\n",
       "\n",
       "[641 rows x 2 columns]"
      ]
     },
     "execution_count": 35,
     "metadata": {},
     "output_type": "execute_result"
    }
   ],
   "source": [
    "X_train_c[['Item_Type','Item_Weight']].drop_duplicates().sort_values(by=['Item_Type'])"
   ]
  },
  {
   "cell_type": "code",
   "execution_count": 36,
   "id": "054f1f68",
   "metadata": {},
   "outputs": [
    {
     "data": {
      "text/plain": [
       "[('DRA12', 11.6),\n",
       " ('DRA24', 19.35),\n",
       " ('DRA59', 8.27),\n",
       " ('DRB01', 7.39),\n",
       " ('DRB13', 6.115),\n",
       " ('DRB24', 8.785),\n",
       " ('DRB25', 12.300000000000002),\n",
       " ('DRB48', 16.75),\n",
       " ('DRC01', 5.92),\n",
       " ('DRC12', 17.85)]"
      ]
     },
     "execution_count": 36,
     "metadata": {},
     "output_type": "execute_result"
    }
   ],
   "source": [
    "#Step 2 : Fill in the missing values for Item_Weight\n",
    "#Logic\n",
    "#1st Step : Use mapping of Item ID - weight and fill in missing values\n",
    "#2nd Step : If completely new item - median (weight) and fill in the missing values\n",
    "\n",
    "ITEM_ID_WEIGHT_PIVOT = X_train_c.pivot_table(values = 'Item_Weight', index='Item_Identifier').reset_index()\n",
    "ITEM_ID_WEIGHT_MAPPING = dict(zip(ITEM_ID_WEIGHT_PIVOT['Item_Identifier'],ITEM_ID_WEIGHT_PIVOT['Item_Weight']))\n",
    "list(ITEM_ID_WEIGHT_MAPPING.items())[:10]"
   ]
  },
  {
   "cell_type": "code",
   "execution_count": 37,
   "id": "eb09d343",
   "metadata": {},
   "outputs": [
    {
     "data": {
      "text/plain": [
       "[('Drinks', 11.8), ('Food', 12.8), ('Non_Consumables', 13.05)]"
      ]
     },
     "execution_count": 37,
     "metadata": {},
     "output_type": "execute_result"
    }
   ],
   "source": [
    "ITEM_TYPE_WEIGHT_PIVOT = X_train_c.pivot_table(values = 'Item_Weight', index = 'Item_Type',\n",
    "                                              aggfunc= 'median').reset_index()\n",
    "ITEM_ID_WEIGHT_MAPPING = dict(zip(ITEM_TYPE_WEIGHT_PIVOT['Item_Type'],ITEM_TYPE_WEIGHT_PIVOT['Item_Weight']))\n",
    "list(ITEM_ID_WEIGHT_MAPPING.items())"
   ]
  },
  {
   "cell_type": "code",
   "execution_count": 38,
   "id": "3b6bf3a3",
   "metadata": {},
   "outputs": [],
   "source": [
    "def impute_item_weight(data_frame):\n",
    "    #1st logic item id - weight\n",
    "    data_frame.loc[:,'Item_Weight']=data_frame.loc[:,'Item_Weight'].fillna(data_frame.loc[:,'Item_Identifier'].map(ITEM_ID_WEIGHT_MAPPING))\n",
    "    #2nd Logic Item type - weight if any still missing\n",
    "    data_frame.loc[:,'Item_Weight']=data_frame.loc[:,'Item_Weight'].fillna(data_frame.loc[:,'Item_Type'].map(ITEM_ID_WEIGHT_MAPPING))\n",
    "    \n",
    "    return data_frame"
   ]
  },
  {
   "cell_type": "code",
   "execution_count": 39,
   "id": "33be152e",
   "metadata": {},
   "outputs": [
    {
     "data": {
      "text/plain": [
       "Item_Identifier                 0\n",
       "Item_Weight                     0\n",
       "Item_Fat_Content                0\n",
       "Item_Visibility                 0\n",
       "Item_Type                       0\n",
       "Item_MRP                        0\n",
       "Outlet_Identifier               0\n",
       "Outlet_Establishment_Year       0\n",
       "Outlet_Size                  1690\n",
       "Outlet_Location_Type            0\n",
       "Outlet_Type                     0\n",
       "dtype: int64"
      ]
     },
     "execution_count": 39,
     "metadata": {},
     "output_type": "execute_result"
    }
   ],
   "source": [
    "X_train_c = impute_item_weight(X_train_c)\n",
    "X_train_c.isnull().sum()"
   ]
  },
  {
   "cell_type": "markdown",
   "id": "13816b8f",
   "metadata": {},
   "source": [
    "<h2> Step 3 : Fill in the missing values of Outlet_Size"
   ]
  },
  {
   "cell_type": "code",
   "execution_count": 40,
   "id": "c820306f",
   "metadata": {},
   "outputs": [
    {
     "data": {
      "text/plain": [
       "Outlet_Type        Outlet_Size\n",
       "Grocery Store      Small           355\n",
       "Supermarket Type1  High            649\n",
       "                   Medium          631\n",
       "                   Small          1312\n",
       "Supermarket Type2  Medium          661\n",
       "Supermarket Type3  Medium          668\n",
       "dtype: int64"
      ]
     },
     "execution_count": 40,
     "metadata": {},
     "output_type": "execute_result"
    }
   ],
   "source": [
    "X_train_c.groupby(by=['Outlet_Type', 'Outlet_Size']).size()"
   ]
  },
  {
   "cell_type": "code",
   "execution_count": 41,
   "id": "7cdc8724",
   "metadata": {},
   "outputs": [
    {
     "data": {
      "text/html": [
       "<div>\n",
       "<style scoped>\n",
       "    .dataframe tbody tr th:only-of-type {\n",
       "        vertical-align: middle;\n",
       "    }\n",
       "\n",
       "    .dataframe tbody tr th {\n",
       "        vertical-align: top;\n",
       "    }\n",
       "\n",
       "    .dataframe thead th {\n",
       "        text-align: right;\n",
       "    }\n",
       "</style>\n",
       "<table border=\"1\" class=\"dataframe\">\n",
       "  <thead>\n",
       "    <tr style=\"text-align: right;\">\n",
       "      <th></th>\n",
       "      <th>Item_Identifier</th>\n",
       "      <th>Item_Weight</th>\n",
       "      <th>Item_Fat_Content</th>\n",
       "      <th>Item_Visibility</th>\n",
       "      <th>Item_Type</th>\n",
       "      <th>Item_MRP</th>\n",
       "      <th>Outlet_Identifier</th>\n",
       "      <th>Outlet_Establishment_Year</th>\n",
       "      <th>Outlet_Size</th>\n",
       "      <th>Outlet_Location_Type</th>\n",
       "      <th>Outlet_Type</th>\n",
       "    </tr>\n",
       "  </thead>\n",
       "  <tbody>\n",
       "    <tr>\n",
       "      <th>1921</th>\n",
       "      <td>FDN08</td>\n",
       "      <td>7.720</td>\n",
       "      <td>Regular</td>\n",
       "      <td>0.147904</td>\n",
       "      <td>Food</td>\n",
       "      <td>116.6466</td>\n",
       "      <td>OUT010</td>\n",
       "      <td>1998</td>\n",
       "      <td>Small</td>\n",
       "      <td>Tier 3</td>\n",
       "      <td>Grocery Store</td>\n",
       "    </tr>\n",
       "    <tr>\n",
       "      <th>655</th>\n",
       "      <td>NCJ42</td>\n",
       "      <td>19.750</td>\n",
       "      <td>Low Fat</td>\n",
       "      <td>0.014301</td>\n",
       "      <td>Non_Consumables</td>\n",
       "      <td>103.0332</td>\n",
       "      <td>OUT046</td>\n",
       "      <td>1997</td>\n",
       "      <td>Small</td>\n",
       "      <td>Tier 1</td>\n",
       "      <td>Supermarket Type1</td>\n",
       "    </tr>\n",
       "    <tr>\n",
       "      <th>2229</th>\n",
       "      <td>FDY47</td>\n",
       "      <td>12.800</td>\n",
       "      <td>Regular</td>\n",
       "      <td>0.054221</td>\n",
       "      <td>Food</td>\n",
       "      <td>129.1310</td>\n",
       "      <td>OUT027</td>\n",
       "      <td>1985</td>\n",
       "      <td>Medium</td>\n",
       "      <td>Tier 3</td>\n",
       "      <td>Supermarket Type3</td>\n",
       "    </tr>\n",
       "    <tr>\n",
       "      <th>2537</th>\n",
       "      <td>FDN45</td>\n",
       "      <td>19.350</td>\n",
       "      <td>Low Fat</td>\n",
       "      <td>0.118342</td>\n",
       "      <td>Food</td>\n",
       "      <td>222.6088</td>\n",
       "      <td>OUT045</td>\n",
       "      <td>2002</td>\n",
       "      <td>NaN</td>\n",
       "      <td>Tier 2</td>\n",
       "      <td>Supermarket Type1</td>\n",
       "    </tr>\n",
       "    <tr>\n",
       "      <th>3528</th>\n",
       "      <td>FDY16</td>\n",
       "      <td>18.350</td>\n",
       "      <td>Regular</td>\n",
       "      <td>0.092150</td>\n",
       "      <td>Food</td>\n",
       "      <td>184.8266</td>\n",
       "      <td>OUT013</td>\n",
       "      <td>1987</td>\n",
       "      <td>High</td>\n",
       "      <td>Tier 3</td>\n",
       "      <td>Supermarket Type1</td>\n",
       "    </tr>\n",
       "    <tr>\n",
       "      <th>...</th>\n",
       "      <td>...</td>\n",
       "      <td>...</td>\n",
       "      <td>...</td>\n",
       "      <td>...</td>\n",
       "      <td>...</td>\n",
       "      <td>...</td>\n",
       "      <td>...</td>\n",
       "      <td>...</td>\n",
       "      <td>...</td>\n",
       "      <td>...</td>\n",
       "      <td>...</td>\n",
       "    </tr>\n",
       "    <tr>\n",
       "      <th>5734</th>\n",
       "      <td>FDY08</td>\n",
       "      <td>9.395</td>\n",
       "      <td>Regular</td>\n",
       "      <td>0.286345</td>\n",
       "      <td>Food</td>\n",
       "      <td>139.1838</td>\n",
       "      <td>OUT010</td>\n",
       "      <td>1998</td>\n",
       "      <td>Small</td>\n",
       "      <td>Tier 3</td>\n",
       "      <td>Grocery Store</td>\n",
       "    </tr>\n",
       "    <tr>\n",
       "      <th>5191</th>\n",
       "      <td>FDC41</td>\n",
       "      <td>15.600</td>\n",
       "      <td>Low Fat</td>\n",
       "      <td>0.117575</td>\n",
       "      <td>Food</td>\n",
       "      <td>75.6670</td>\n",
       "      <td>OUT017</td>\n",
       "      <td>2007</td>\n",
       "      <td>NaN</td>\n",
       "      <td>Tier 2</td>\n",
       "      <td>Supermarket Type1</td>\n",
       "    </tr>\n",
       "    <tr>\n",
       "      <th>5390</th>\n",
       "      <td>NCQ53</td>\n",
       "      <td>17.600</td>\n",
       "      <td>Low Fat</td>\n",
       "      <td>0.018944</td>\n",
       "      <td>Non_Consumables</td>\n",
       "      <td>237.3590</td>\n",
       "      <td>OUT045</td>\n",
       "      <td>2002</td>\n",
       "      <td>NaN</td>\n",
       "      <td>Tier 2</td>\n",
       "      <td>Supermarket Type1</td>\n",
       "    </tr>\n",
       "    <tr>\n",
       "      <th>860</th>\n",
       "      <td>FDL46</td>\n",
       "      <td>20.350</td>\n",
       "      <td>low fat</td>\n",
       "      <td>0.054363</td>\n",
       "      <td>Food</td>\n",
       "      <td>117.9466</td>\n",
       "      <td>OUT017</td>\n",
       "      <td>2007</td>\n",
       "      <td>NaN</td>\n",
       "      <td>Tier 2</td>\n",
       "      <td>Supermarket Type1</td>\n",
       "    </tr>\n",
       "    <tr>\n",
       "      <th>7270</th>\n",
       "      <td>NCN30</td>\n",
       "      <td>16.350</td>\n",
       "      <td>LF</td>\n",
       "      <td>0.016993</td>\n",
       "      <td>Non_Consumables</td>\n",
       "      <td>95.7410</td>\n",
       "      <td>OUT046</td>\n",
       "      <td>1997</td>\n",
       "      <td>Small</td>\n",
       "      <td>Tier 1</td>\n",
       "      <td>Supermarket Type1</td>\n",
       "    </tr>\n",
       "  </tbody>\n",
       "</table>\n",
       "<p>5966 rows × 11 columns</p>\n",
       "</div>"
      ],
      "text/plain": [
       "     Item_Identifier  Item_Weight Item_Fat_Content  Item_Visibility  \\\n",
       "1921           FDN08        7.720          Regular         0.147904   \n",
       "655            NCJ42       19.750          Low Fat         0.014301   \n",
       "2229           FDY47       12.800          Regular         0.054221   \n",
       "2537           FDN45       19.350          Low Fat         0.118342   \n",
       "3528           FDY16       18.350          Regular         0.092150   \n",
       "...              ...          ...              ...              ...   \n",
       "5734           FDY08        9.395          Regular         0.286345   \n",
       "5191           FDC41       15.600          Low Fat         0.117575   \n",
       "5390           NCQ53       17.600          Low Fat         0.018944   \n",
       "860            FDL46       20.350          low fat         0.054363   \n",
       "7270           NCN30       16.350               LF         0.016993   \n",
       "\n",
       "            Item_Type  Item_MRP Outlet_Identifier  Outlet_Establishment_Year  \\\n",
       "1921             Food  116.6466            OUT010                       1998   \n",
       "655   Non_Consumables  103.0332            OUT046                       1997   \n",
       "2229             Food  129.1310            OUT027                       1985   \n",
       "2537             Food  222.6088            OUT045                       2002   \n",
       "3528             Food  184.8266            OUT013                       1987   \n",
       "...               ...       ...               ...                        ...   \n",
       "5734             Food  139.1838            OUT010                       1998   \n",
       "5191             Food   75.6670            OUT017                       2007   \n",
       "5390  Non_Consumables  237.3590            OUT045                       2002   \n",
       "860              Food  117.9466            OUT017                       2007   \n",
       "7270  Non_Consumables   95.7410            OUT046                       1997   \n",
       "\n",
       "     Outlet_Size Outlet_Location_Type        Outlet_Type  \n",
       "1921       Small               Tier 3      Grocery Store  \n",
       "655        Small               Tier 1  Supermarket Type1  \n",
       "2229      Medium               Tier 3  Supermarket Type3  \n",
       "2537         NaN               Tier 2  Supermarket Type1  \n",
       "3528        High               Tier 3  Supermarket Type1  \n",
       "...          ...                  ...                ...  \n",
       "5734       Small               Tier 3      Grocery Store  \n",
       "5191         NaN               Tier 2  Supermarket Type1  \n",
       "5390         NaN               Tier 2  Supermarket Type1  \n",
       "860          NaN               Tier 2  Supermarket Type1  \n",
       "7270       Small               Tier 1  Supermarket Type1  \n",
       "\n",
       "[5966 rows x 11 columns]"
      ]
     },
     "execution_count": 41,
     "metadata": {},
     "output_type": "execute_result"
    }
   ],
   "source": [
    "X_train_c.loc[(X_train_c['Outlet_Type'] == 'Grocery Store') & (X_train_c['Outlet_Size'].isnull()), 'Outlet_Size'] = 'Small'\n",
    "\n",
    "X_train_c"
   ]
  },
  {
   "cell_type": "code",
   "execution_count": 42,
   "id": "b61d52d3",
   "metadata": {},
   "outputs": [
    {
     "name": "stderr",
     "output_type": "stream",
     "text": [
      "C:\\Users\\Valued Customer\\AppData\\Local\\Temp\\ipykernel_75252\\2459193205.py:5: FutureWarning: Unlike other reduction functions (e.g. `skew`, `kurtosis`), the default behavior of `mode` typically preserves the axis it acts along. In SciPy 1.11.0, this behavior will change: the default value of `keepdims` will become False, the `axis` over which the statistic is taken will be eliminated, and the value None will no longer be accepted. Set `keepdims` to True or False to avoid this warning.\n",
      "  aggfunc=(lambda x:mode(x).mode[0])).reset_index()\n",
      "C:\\Users\\Public\\Anaconda\\lib\\site-packages\\scipy\\stats\\_stats_py.py:110: RuntimeWarning: The input array could not be properly checked for nan values. nan values will be ignored.\n",
      "  warnings.warn(\"The input array could not be properly \"\n"
     ]
    },
    {
     "data": {
      "text/plain": [
       "{'Grocery Store': 'Small',\n",
       " 'Supermarket Type1': 'Small',\n",
       " 'Supermarket Type2': 'Medium',\n",
       " 'Supermarket Type3': 'Medium'}"
      ]
     },
     "execution_count": 42,
     "metadata": {},
     "output_type": "execute_result"
    }
   ],
   "source": [
    "#Logic\n",
    "#1st step : Use mapping of Outlet_type  - mode(Outlet_size)\n",
    "\n",
    "OUTLET_TYPE_SIZE_PIVOT = X_train_c.pivot_table(values='Outlet_Size', index = 'Outlet_Type',\n",
    "                       aggfunc=(lambda x:mode(x).mode[0])).reset_index()\n",
    "OUTLET_TYPE_SIZE_MAPPING = dict(zip(OUTLET_TYPE_SIZE_PIVOT['Outlet_Type'],OUTLET_TYPE_SIZE_PIVOT['Outlet_Size']))\n",
    "OUTLET_TYPE_SIZE_MAPPING"
   ]
  },
  {
   "cell_type": "code",
   "execution_count": 43,
   "id": "2bb71b86",
   "metadata": {},
   "outputs": [],
   "source": [
    "def impute_outlet_size(data_frame):\n",
    "    #1st Logic outlet_type - mode(Outlet_Size)\n",
    "    data_frame.loc[:,'Outlet_Size'] = data_frame.loc[:,'Outlet_Size'].fillna(data_frame.loc[:,'Outlet_Type'].map(OUTLET_TYPE_SIZE_MAPPING))\n",
    "    \n",
    "    return data_frame"
   ]
  },
  {
   "cell_type": "code",
   "execution_count": 44,
   "id": "fe3ebca8",
   "metadata": {},
   "outputs": [],
   "source": [
    "X_train_c = impute_outlet_size(X_train_c)"
   ]
  },
  {
   "cell_type": "code",
   "execution_count": 45,
   "id": "cb1e4e88",
   "metadata": {},
   "outputs": [
    {
     "data": {
      "text/plain": [
       "Item_Identifier              0\n",
       "Item_Weight                  0\n",
       "Item_Fat_Content             0\n",
       "Item_Visibility              0\n",
       "Item_Type                    0\n",
       "Item_MRP                     0\n",
       "Outlet_Identifier            0\n",
       "Outlet_Establishment_Year    0\n",
       "Outlet_Size                  0\n",
       "Outlet_Location_Type         0\n",
       "Outlet_Type                  0\n",
       "dtype: int64"
      ]
     },
     "execution_count": 45,
     "metadata": {},
     "output_type": "execute_result"
    }
   ],
   "source": [
    "X_train_c.isnull().sum()"
   ]
  },
  {
   "cell_type": "markdown",
   "id": "4a4a7480",
   "metadata": {},
   "source": [
    "<h2> Step 4: Standardize Item_Fat_Content categories"
   ]
  },
  {
   "cell_type": "code",
   "execution_count": 46,
   "id": "f983a008",
   "metadata": {},
   "outputs": [
    {
     "data": {
      "text/plain": [
       "Low Fat    3535\n",
       "Regular    2027\n",
       "LF          243\n",
       "low fat      82\n",
       "reg          79\n",
       "Name: Item_Fat_Content, dtype: int64"
      ]
     },
     "execution_count": 46,
     "metadata": {},
     "output_type": "execute_result"
    }
   ],
   "source": [
    "X_train_c ['Item_Fat_Content'].value_counts()"
   ]
  },
  {
   "cell_type": "code",
   "execution_count": 47,
   "id": "43f82cda",
   "metadata": {},
   "outputs": [],
   "source": [
    "def standardize_item_fat_content(data_frame):\n",
    "    data_frame['Item_Fat_Content'] = data_frame['Item_Fat_Content'].replace({ \n",
    "        \t\t\t\t\t\t'Low Fat' :'Low_Fat',\n",
    "        \t\t\t\t\t\t'reg':'Regular',\n",
    "        \t\t\t\t\t\t'low fat':'Low_Fat',\n",
    "        \t\t\t\t\t\t'LF' : 'Low_Fat'\n",
    "    })\n",
    "    return data_frame"
   ]
  },
  {
   "cell_type": "code",
   "execution_count": 48,
   "id": "ce13e9f7",
   "metadata": {},
   "outputs": [
    {
     "data": {
      "text/plain": [
       "Low_Fat    3860\n",
       "Regular    2106\n",
       "Name: Item_Fat_Content, dtype: int64"
      ]
     },
     "execution_count": 48,
     "metadata": {},
     "output_type": "execute_result"
    }
   ],
   "source": [
    "X_train_c = standardize_item_fat_content(X_train_c)\n",
    "X_train_c ['Item_Fat_Content'].value_counts()"
   ]
  },
  {
   "cell_type": "markdown",
   "id": "958c5f72",
   "metadata": {},
   "source": [
    "<h2> Step : Correct Item Fat Content for Non-consumables"
   ]
  },
  {
   "cell_type": "code",
   "execution_count": 49,
   "id": "86feb077",
   "metadata": {},
   "outputs": [
    {
     "data": {
      "text/plain": [
       "Item_Type        Item_Fat_Content\n",
       "Drinks           Low_Fat              517\n",
       "                 Regular               43\n",
       "Food             Low_Fat             2206\n",
       "                 Regular             2063\n",
       "Non_Consumables  Low_Fat             1137\n",
       "dtype: int64"
      ]
     },
     "execution_count": 49,
     "metadata": {},
     "output_type": "execute_result"
    }
   ],
   "source": [
    "#Grouping Item_Type with Item_Fat_Content\n",
    "X_train_c.groupby(by=['Item_Type','Item_Fat_Content']).size()"
   ]
  },
  {
   "cell_type": "code",
   "execution_count": 50,
   "id": "9d587d4f",
   "metadata": {},
   "outputs": [
    {
     "data": {
      "text/plain": [
       "655     Low_Fat\n",
       "4423    Low_Fat\n",
       "907     Low_Fat\n",
       "7021    Low_Fat\n",
       "6074    Low_Fat\n",
       "         ...   \n",
       "8322    Low_Fat\n",
       "466     Low_Fat\n",
       "6265    Low_Fat\n",
       "5390    Low_Fat\n",
       "7270    Low_Fat\n",
       "Name: Item_Fat_Content, Length: 1137, dtype: object"
      ]
     },
     "execution_count": 50,
     "metadata": {},
     "output_type": "execute_result"
    }
   ],
   "source": [
    "#Checking Item_Fat_Content for Non_Consumables\n",
    "\n",
    "X_train_c.loc[X_train_c['Item_Type'] == 'Non_Consumables','Item_Fat_Content']"
   ]
  },
  {
   "cell_type": "code",
   "execution_count": 51,
   "id": "eac30706",
   "metadata": {},
   "outputs": [],
   "source": [
    "#Step 5 : COrrect  Item Fat Content for Non-COnsumables\n",
    "\n",
    "def correct_item_fat_content(data_frame):\n",
    "    data_frame.loc[data_frame['Item_Type'] == 'Non_Consumables','Item_Fat_Content'] = 'Non_Edible'\n",
    "    return data_frame"
   ]
  },
  {
   "cell_type": "code",
   "execution_count": 52,
   "id": "da42373b",
   "metadata": {},
   "outputs": [
    {
     "data": {
      "text/plain": [
       "Item_Type        Item_Fat_Content\n",
       "Drinks           Low_Fat              517\n",
       "                 Regular               43\n",
       "Food             Low_Fat             2206\n",
       "                 Regular             2063\n",
       "Non_Consumables  Non_Edible          1137\n",
       "dtype: int64"
      ]
     },
     "execution_count": 52,
     "metadata": {},
     "output_type": "execute_result"
    }
   ],
   "source": [
    "X_train_c = correct_item_fat_content(X_train_c)\n",
    "X_train_c.groupby(by = ['Item_Type','Item_Fat_Content']).size()"
   ]
  },
  {
   "cell_type": "code",
   "execution_count": 53,
   "id": "8abc89be",
   "metadata": {},
   "outputs": [
    {
     "name": "stdout",
     "output_type": "stream",
     "text": [
      "<class 'pandas.core.frame.DataFrame'>\n",
      "Int64Index: 5966 entries, 1921 to 7270\n",
      "Data columns (total 11 columns):\n",
      " #   Column                     Non-Null Count  Dtype  \n",
      "---  ------                     --------------  -----  \n",
      " 0   Item_Identifier            5966 non-null   object \n",
      " 1   Item_Weight                5966 non-null   float64\n",
      " 2   Item_Fat_Content           5966 non-null   object \n",
      " 3   Item_Visibility            5966 non-null   float64\n",
      " 4   Item_Type                  5966 non-null   object \n",
      " 5   Item_MRP                   5966 non-null   float64\n",
      " 6   Outlet_Identifier          5966 non-null   object \n",
      " 7   Outlet_Establishment_Year  5966 non-null   int64  \n",
      " 8   Outlet_Size                5966 non-null   object \n",
      " 9   Outlet_Location_Type       5966 non-null   object \n",
      " 10  Outlet_Type                5966 non-null   object \n",
      "dtypes: float64(3), int64(1), object(7)\n",
      "memory usage: 559.3+ KB\n"
     ]
    }
   ],
   "source": [
    "X_train_c.info()"
   ]
  },
  {
   "cell_type": "markdown",
   "id": "511ca376",
   "metadata": {},
   "source": [
    "<h1> Prepare Dataset for ML"
   ]
  },
  {
   "cell_type": "code",
   "execution_count": 54,
   "id": "f9beb581",
   "metadata": {},
   "outputs": [],
   "source": [
    "def prepare_dataset(data_frame):\n",
    "    \n",
    "    #Step 1 : Create Item Type\n",
    "    data_frame = create_item_type(data_frame)\n",
    "    \n",
    "    #Step 2: Fill in missing values for Item_Weight\n",
    "    data_frame = impute_item_weight(data_frame)\n",
    "    \n",
    "    #Step 3: Impute missing values for Outlet_Size\n",
    "    data_frame = impute_outlet_size(data_frame)\n",
    "    \n",
    "    #Step 4 : Make Item Fat Content categories consistent\n",
    "    data_frame = standardize_item_fat_content(data_frame)\n",
    "    \n",
    "    #Step 5 : Correct Item Fat content for non-consumables\n",
    "    data_frame = correct_item_fat_content(data_frame)\n",
    "    \n",
    "    return data_frame"
   ]
  },
  {
   "cell_type": "code",
   "execution_count": 55,
   "id": "da6b5db1",
   "metadata": {},
   "outputs": [
    {
     "data": {
      "text/plain": [
       "Item_Identifier                 0\n",
       "Item_Weight                  1023\n",
       "Item_Fat_Content                0\n",
       "Item_Visibility                 0\n",
       "Item_Type                       0\n",
       "Item_MRP                        0\n",
       "Outlet_Identifier               0\n",
       "Outlet_Establishment_Year       0\n",
       "Outlet_Size                  1690\n",
       "Outlet_Location_Type            0\n",
       "Outlet_Type                     0\n",
       "dtype: int64"
      ]
     },
     "execution_count": 55,
     "metadata": {},
     "output_type": "execute_result"
    }
   ],
   "source": [
    "X_train.isnull().sum()"
   ]
  },
  {
   "cell_type": "code",
   "execution_count": 56,
   "id": "d2d6ae1d",
   "metadata": {},
   "outputs": [
    {
     "data": {
      "text/plain": [
       "Item_Identifier              0\n",
       "Item_Weight                  0\n",
       "Item_Fat_Content             0\n",
       "Item_Visibility              0\n",
       "Item_Type                    0\n",
       "Item_MRP                     0\n",
       "Outlet_Identifier            0\n",
       "Outlet_Establishment_Year    0\n",
       "Outlet_Size                  0\n",
       "Outlet_Location_Type         0\n",
       "Outlet_Type                  0\n",
       "dtype: int64"
      ]
     },
     "execution_count": 56,
     "metadata": {},
     "output_type": "execute_result"
    }
   ],
   "source": [
    "X_train= prepare_dataset(X_train)\n",
    "X_train.isnull().sum()"
   ]
  },
  {
   "cell_type": "code",
   "execution_count": 57,
   "id": "c584b71a",
   "metadata": {},
   "outputs": [
    {
     "data": {
      "text/plain": [
       "Item_Identifier                0\n",
       "Item_Weight                  440\n",
       "Item_Fat_Content               0\n",
       "Item_Visibility                0\n",
       "Item_Type                      0\n",
       "Item_MRP                       0\n",
       "Outlet_Identifier              0\n",
       "Outlet_Establishment_Year      0\n",
       "Outlet_Size                  720\n",
       "Outlet_Location_Type           0\n",
       "Outlet_Type                    0\n",
       "dtype: int64"
      ]
     },
     "execution_count": 57,
     "metadata": {},
     "output_type": "execute_result"
    }
   ],
   "source": [
    "X_test.isnull().sum()"
   ]
  },
  {
   "cell_type": "code",
   "execution_count": 58,
   "id": "2451f6f6",
   "metadata": {},
   "outputs": [
    {
     "data": {
      "text/plain": [
       "Item_Identifier              0\n",
       "Item_Weight                  0\n",
       "Item_Fat_Content             0\n",
       "Item_Visibility              0\n",
       "Item_Type                    0\n",
       "Item_MRP                     0\n",
       "Outlet_Identifier            0\n",
       "Outlet_Establishment_Year    0\n",
       "Outlet_Size                  0\n",
       "Outlet_Location_Type         0\n",
       "Outlet_Type                  0\n",
       "dtype: int64"
      ]
     },
     "execution_count": 58,
     "metadata": {},
     "output_type": "execute_result"
    }
   ],
   "source": [
    "X_test= prepare_dataset(X_test)\n",
    "X_test.isnull().sum()"
   ]
  },
  {
   "cell_type": "markdown",
   "id": "cc5bb648",
   "metadata": {},
   "source": [
    "<h1> Handling Categorical Data"
   ]
  },
  {
   "cell_type": "markdown",
   "id": "e4cf255c",
   "metadata": {},
   "source": [
    "<h3> All Categorical Columns - One hot encoded"
   ]
  },
  {
   "cell_type": "code",
   "execution_count": 59,
   "id": "ad2e08a5",
   "metadata": {},
   "outputs": [
    {
     "data": {
      "text/html": [
       "<div>\n",
       "<style scoped>\n",
       "    .dataframe tbody tr th:only-of-type {\n",
       "        vertical-align: middle;\n",
       "    }\n",
       "\n",
       "    .dataframe tbody tr th {\n",
       "        vertical-align: top;\n",
       "    }\n",
       "\n",
       "    .dataframe thead th {\n",
       "        text-align: right;\n",
       "    }\n",
       "</style>\n",
       "<table border=\"1\" class=\"dataframe\">\n",
       "  <thead>\n",
       "    <tr style=\"text-align: right;\">\n",
       "      <th></th>\n",
       "      <th>Item_Identifier</th>\n",
       "      <th>Item_Fat_Content</th>\n",
       "      <th>Item_Type</th>\n",
       "      <th>Outlet_Identifier</th>\n",
       "      <th>Outlet_Size</th>\n",
       "      <th>Outlet_Location_Type</th>\n",
       "      <th>Outlet_Type</th>\n",
       "    </tr>\n",
       "  </thead>\n",
       "  <tbody>\n",
       "    <tr>\n",
       "      <th>1921</th>\n",
       "      <td>FDN08</td>\n",
       "      <td>Regular</td>\n",
       "      <td>Food</td>\n",
       "      <td>OUT010</td>\n",
       "      <td>Small</td>\n",
       "      <td>Tier 3</td>\n",
       "      <td>Grocery Store</td>\n",
       "    </tr>\n",
       "    <tr>\n",
       "      <th>655</th>\n",
       "      <td>NCJ42</td>\n",
       "      <td>Non_Edible</td>\n",
       "      <td>Non_Consumables</td>\n",
       "      <td>OUT046</td>\n",
       "      <td>Small</td>\n",
       "      <td>Tier 1</td>\n",
       "      <td>Supermarket Type1</td>\n",
       "    </tr>\n",
       "    <tr>\n",
       "      <th>2229</th>\n",
       "      <td>FDY47</td>\n",
       "      <td>Regular</td>\n",
       "      <td>Food</td>\n",
       "      <td>OUT027</td>\n",
       "      <td>Medium</td>\n",
       "      <td>Tier 3</td>\n",
       "      <td>Supermarket Type3</td>\n",
       "    </tr>\n",
       "    <tr>\n",
       "      <th>2537</th>\n",
       "      <td>FDN45</td>\n",
       "      <td>Low_Fat</td>\n",
       "      <td>Food</td>\n",
       "      <td>OUT045</td>\n",
       "      <td>Small</td>\n",
       "      <td>Tier 2</td>\n",
       "      <td>Supermarket Type1</td>\n",
       "    </tr>\n",
       "    <tr>\n",
       "      <th>3528</th>\n",
       "      <td>FDY16</td>\n",
       "      <td>Regular</td>\n",
       "      <td>Food</td>\n",
       "      <td>OUT013</td>\n",
       "      <td>High</td>\n",
       "      <td>Tier 3</td>\n",
       "      <td>Supermarket Type1</td>\n",
       "    </tr>\n",
       "  </tbody>\n",
       "</table>\n",
       "</div>"
      ],
      "text/plain": [
       "     Item_Identifier Item_Fat_Content        Item_Type Outlet_Identifier  \\\n",
       "1921           FDN08          Regular             Food            OUT010   \n",
       "655            NCJ42       Non_Edible  Non_Consumables            OUT046   \n",
       "2229           FDY47          Regular             Food            OUT027   \n",
       "2537           FDN45          Low_Fat             Food            OUT045   \n",
       "3528           FDY16          Regular             Food            OUT013   \n",
       "\n",
       "     Outlet_Size Outlet_Location_Type        Outlet_Type  \n",
       "1921       Small               Tier 3      Grocery Store  \n",
       "655        Small               Tier 1  Supermarket Type1  \n",
       "2229      Medium               Tier 3  Supermarket Type3  \n",
       "2537       Small               Tier 2  Supermarket Type1  \n",
       "3528        High               Tier 3  Supermarket Type1  "
      ]
     },
     "execution_count": 59,
     "metadata": {},
     "output_type": "execute_result"
    }
   ],
   "source": [
    "cat_features = X_train.select_dtypes(include = ['object'])\n",
    "cat_features.head()"
   ]
  },
  {
   "cell_type": "code",
   "execution_count": 60,
   "id": "0bdcd0b2",
   "metadata": {},
   "outputs": [
    {
     "data": {
      "text/plain": [
       "OneHotEncoder(handle_unknown='ignore')"
      ]
     },
     "execution_count": 60,
     "metadata": {},
     "output_type": "execute_result"
    }
   ],
   "source": [
    "#Ignore Unknown Categories and Fit in cat_features\n",
    "\n",
    "from sklearn.preprocessing import OneHotEncoder\n",
    "\n",
    "ohe = OneHotEncoder(handle_unknown = 'ignore')\n",
    "ohe.fit(cat_features)"
   ]
  },
  {
   "cell_type": "code",
   "execution_count": 61,
   "id": "ddfb7057",
   "metadata": {},
   "outputs": [
    {
     "data": {
      "text/plain": [
       "array(['Item_Identifier_DRA12', 'Item_Identifier_DRA24',\n",
       "       'Item_Identifier_DRA59', ..., 'Outlet_Type_Supermarket Type1',\n",
       "       'Outlet_Type_Supermarket Type2', 'Outlet_Type_Supermarket Type3'],\n",
       "      dtype=object)"
      ]
     },
     "execution_count": 61,
     "metadata": {},
     "output_type": "execute_result"
    }
   ],
   "source": [
    "#Make Categories of for each column\n",
    "\n",
    "ohe_features_names = ohe.get_feature_names_out(input_features= cat_features.columns)\n",
    "ohe_features_names"
   ]
  },
  {
   "cell_type": "code",
   "execution_count": 62,
   "id": "73d437f7",
   "metadata": {},
   "outputs": [
    {
     "data": {
      "text/html": [
       "<div>\n",
       "<style scoped>\n",
       "    .dataframe tbody tr th:only-of-type {\n",
       "        vertical-align: middle;\n",
       "    }\n",
       "\n",
       "    .dataframe tbody tr th {\n",
       "        vertical-align: top;\n",
       "    }\n",
       "\n",
       "    .dataframe thead th {\n",
       "        text-align: right;\n",
       "    }\n",
       "</style>\n",
       "<table border=\"1\" class=\"dataframe\">\n",
       "  <thead>\n",
       "    <tr style=\"text-align: right;\">\n",
       "      <th></th>\n",
       "      <th>Item_Weight</th>\n",
       "      <th>Item_Visibility</th>\n",
       "      <th>Item_MRP</th>\n",
       "      <th>Outlet_Establishment_Year</th>\n",
       "    </tr>\n",
       "  </thead>\n",
       "  <tbody>\n",
       "    <tr>\n",
       "      <th>0</th>\n",
       "      <td>7.72</td>\n",
       "      <td>0.147904</td>\n",
       "      <td>116.6466</td>\n",
       "      <td>1998</td>\n",
       "    </tr>\n",
       "    <tr>\n",
       "      <th>1</th>\n",
       "      <td>19.75</td>\n",
       "      <td>0.014301</td>\n",
       "      <td>103.0332</td>\n",
       "      <td>1997</td>\n",
       "    </tr>\n",
       "    <tr>\n",
       "      <th>2</th>\n",
       "      <td>12.80</td>\n",
       "      <td>0.054221</td>\n",
       "      <td>129.1310</td>\n",
       "      <td>1985</td>\n",
       "    </tr>\n",
       "    <tr>\n",
       "      <th>3</th>\n",
       "      <td>19.35</td>\n",
       "      <td>0.118342</td>\n",
       "      <td>222.6088</td>\n",
       "      <td>2002</td>\n",
       "    </tr>\n",
       "    <tr>\n",
       "      <th>4</th>\n",
       "      <td>18.35</td>\n",
       "      <td>0.092150</td>\n",
       "      <td>184.8266</td>\n",
       "      <td>1987</td>\n",
       "    </tr>\n",
       "  </tbody>\n",
       "</table>\n",
       "</div>"
      ],
      "text/plain": [
       "   Item_Weight  Item_Visibility  Item_MRP  Outlet_Establishment_Year\n",
       "0         7.72         0.147904  116.6466                       1998\n",
       "1        19.75         0.014301  103.0332                       1997\n",
       "2        12.80         0.054221  129.1310                       1985\n",
       "3        19.35         0.118342  222.6088                       2002\n",
       "4        18.35         0.092150  184.8266                       1987"
      ]
     },
     "execution_count": 62,
     "metadata": {},
     "output_type": "execute_result"
    }
   ],
   "source": [
    "#check the non Catrgorical features\n",
    "\n",
    "num_features_train = X_train.select_dtypes(exclude = ['object']).reset_index(drop=True)\n",
    "num_features_train.head()"
   ]
  },
  {
   "cell_type": "code",
   "execution_count": 63,
   "id": "5fd98dca",
   "metadata": {},
   "outputs": [
    {
     "data": {
      "text/html": [
       "<div>\n",
       "<style scoped>\n",
       "    .dataframe tbody tr th:only-of-type {\n",
       "        vertical-align: middle;\n",
       "    }\n",
       "\n",
       "    .dataframe tbody tr th {\n",
       "        vertical-align: top;\n",
       "    }\n",
       "\n",
       "    .dataframe thead th {\n",
       "        text-align: right;\n",
       "    }\n",
       "</style>\n",
       "<table border=\"1\" class=\"dataframe\">\n",
       "  <thead>\n",
       "    <tr style=\"text-align: right;\">\n",
       "      <th></th>\n",
       "      <th>Item_Identifier_DRA12</th>\n",
       "      <th>Item_Identifier_DRA24</th>\n",
       "      <th>Item_Identifier_DRA59</th>\n",
       "      <th>Item_Identifier_DRB01</th>\n",
       "      <th>Item_Identifier_DRB13</th>\n",
       "      <th>Item_Identifier_DRB24</th>\n",
       "      <th>Item_Identifier_DRB25</th>\n",
       "      <th>Item_Identifier_DRB48</th>\n",
       "      <th>Item_Identifier_DRC01</th>\n",
       "      <th>Item_Identifier_DRC12</th>\n",
       "      <th>...</th>\n",
       "      <th>Outlet_Size_High</th>\n",
       "      <th>Outlet_Size_Medium</th>\n",
       "      <th>Outlet_Size_Small</th>\n",
       "      <th>Outlet_Location_Type_Tier 1</th>\n",
       "      <th>Outlet_Location_Type_Tier 2</th>\n",
       "      <th>Outlet_Location_Type_Tier 3</th>\n",
       "      <th>Outlet_Type_Grocery Store</th>\n",
       "      <th>Outlet_Type_Supermarket Type1</th>\n",
       "      <th>Outlet_Type_Supermarket Type2</th>\n",
       "      <th>Outlet_Type_Supermarket Type3</th>\n",
       "    </tr>\n",
       "  </thead>\n",
       "  <tbody>\n",
       "    <tr>\n",
       "      <th>0</th>\n",
       "      <td>0.0</td>\n",
       "      <td>0.0</td>\n",
       "      <td>0.0</td>\n",
       "      <td>0.0</td>\n",
       "      <td>0.0</td>\n",
       "      <td>0.0</td>\n",
       "      <td>0.0</td>\n",
       "      <td>0.0</td>\n",
       "      <td>0.0</td>\n",
       "      <td>0.0</td>\n",
       "      <td>...</td>\n",
       "      <td>0.0</td>\n",
       "      <td>0.0</td>\n",
       "      <td>1.0</td>\n",
       "      <td>0.0</td>\n",
       "      <td>0.0</td>\n",
       "      <td>1.0</td>\n",
       "      <td>1.0</td>\n",
       "      <td>0.0</td>\n",
       "      <td>0.0</td>\n",
       "      <td>0.0</td>\n",
       "    </tr>\n",
       "    <tr>\n",
       "      <th>1</th>\n",
       "      <td>0.0</td>\n",
       "      <td>0.0</td>\n",
       "      <td>0.0</td>\n",
       "      <td>0.0</td>\n",
       "      <td>0.0</td>\n",
       "      <td>0.0</td>\n",
       "      <td>0.0</td>\n",
       "      <td>0.0</td>\n",
       "      <td>0.0</td>\n",
       "      <td>0.0</td>\n",
       "      <td>...</td>\n",
       "      <td>0.0</td>\n",
       "      <td>0.0</td>\n",
       "      <td>1.0</td>\n",
       "      <td>1.0</td>\n",
       "      <td>0.0</td>\n",
       "      <td>0.0</td>\n",
       "      <td>0.0</td>\n",
       "      <td>1.0</td>\n",
       "      <td>0.0</td>\n",
       "      <td>0.0</td>\n",
       "    </tr>\n",
       "    <tr>\n",
       "      <th>2</th>\n",
       "      <td>0.0</td>\n",
       "      <td>0.0</td>\n",
       "      <td>0.0</td>\n",
       "      <td>0.0</td>\n",
       "      <td>0.0</td>\n",
       "      <td>0.0</td>\n",
       "      <td>0.0</td>\n",
       "      <td>0.0</td>\n",
       "      <td>0.0</td>\n",
       "      <td>0.0</td>\n",
       "      <td>...</td>\n",
       "      <td>0.0</td>\n",
       "      <td>1.0</td>\n",
       "      <td>0.0</td>\n",
       "      <td>0.0</td>\n",
       "      <td>0.0</td>\n",
       "      <td>1.0</td>\n",
       "      <td>0.0</td>\n",
       "      <td>0.0</td>\n",
       "      <td>0.0</td>\n",
       "      <td>1.0</td>\n",
       "    </tr>\n",
       "    <tr>\n",
       "      <th>3</th>\n",
       "      <td>0.0</td>\n",
       "      <td>0.0</td>\n",
       "      <td>0.0</td>\n",
       "      <td>0.0</td>\n",
       "      <td>0.0</td>\n",
       "      <td>0.0</td>\n",
       "      <td>0.0</td>\n",
       "      <td>0.0</td>\n",
       "      <td>0.0</td>\n",
       "      <td>0.0</td>\n",
       "      <td>...</td>\n",
       "      <td>0.0</td>\n",
       "      <td>0.0</td>\n",
       "      <td>1.0</td>\n",
       "      <td>0.0</td>\n",
       "      <td>1.0</td>\n",
       "      <td>0.0</td>\n",
       "      <td>0.0</td>\n",
       "      <td>1.0</td>\n",
       "      <td>0.0</td>\n",
       "      <td>0.0</td>\n",
       "    </tr>\n",
       "    <tr>\n",
       "      <th>4</th>\n",
       "      <td>0.0</td>\n",
       "      <td>0.0</td>\n",
       "      <td>0.0</td>\n",
       "      <td>0.0</td>\n",
       "      <td>0.0</td>\n",
       "      <td>0.0</td>\n",
       "      <td>0.0</td>\n",
       "      <td>0.0</td>\n",
       "      <td>0.0</td>\n",
       "      <td>0.0</td>\n",
       "      <td>...</td>\n",
       "      <td>1.0</td>\n",
       "      <td>0.0</td>\n",
       "      <td>0.0</td>\n",
       "      <td>0.0</td>\n",
       "      <td>0.0</td>\n",
       "      <td>1.0</td>\n",
       "      <td>0.0</td>\n",
       "      <td>1.0</td>\n",
       "      <td>0.0</td>\n",
       "      <td>0.0</td>\n",
       "    </tr>\n",
       "  </tbody>\n",
       "</table>\n",
       "<p>5 rows × 1569 columns</p>\n",
       "</div>"
      ],
      "text/plain": [
       "   Item_Identifier_DRA12  Item_Identifier_DRA24  Item_Identifier_DRA59  \\\n",
       "0                    0.0                    0.0                    0.0   \n",
       "1                    0.0                    0.0                    0.0   \n",
       "2                    0.0                    0.0                    0.0   \n",
       "3                    0.0                    0.0                    0.0   \n",
       "4                    0.0                    0.0                    0.0   \n",
       "\n",
       "   Item_Identifier_DRB01  Item_Identifier_DRB13  Item_Identifier_DRB24  \\\n",
       "0                    0.0                    0.0                    0.0   \n",
       "1                    0.0                    0.0                    0.0   \n",
       "2                    0.0                    0.0                    0.0   \n",
       "3                    0.0                    0.0                    0.0   \n",
       "4                    0.0                    0.0                    0.0   \n",
       "\n",
       "   Item_Identifier_DRB25  Item_Identifier_DRB48  Item_Identifier_DRC01  \\\n",
       "0                    0.0                    0.0                    0.0   \n",
       "1                    0.0                    0.0                    0.0   \n",
       "2                    0.0                    0.0                    0.0   \n",
       "3                    0.0                    0.0                    0.0   \n",
       "4                    0.0                    0.0                    0.0   \n",
       "\n",
       "   Item_Identifier_DRC12  ...  Outlet_Size_High  Outlet_Size_Medium  \\\n",
       "0                    0.0  ...               0.0                 0.0   \n",
       "1                    0.0  ...               0.0                 0.0   \n",
       "2                    0.0  ...               0.0                 1.0   \n",
       "3                    0.0  ...               0.0                 0.0   \n",
       "4                    0.0  ...               1.0                 0.0   \n",
       "\n",
       "   Outlet_Size_Small  Outlet_Location_Type_Tier 1  \\\n",
       "0                1.0                          0.0   \n",
       "1                1.0                          1.0   \n",
       "2                0.0                          0.0   \n",
       "3                1.0                          0.0   \n",
       "4                0.0                          0.0   \n",
       "\n",
       "   Outlet_Location_Type_Tier 2  Outlet_Location_Type_Tier 3  \\\n",
       "0                          0.0                          1.0   \n",
       "1                          0.0                          0.0   \n",
       "2                          0.0                          1.0   \n",
       "3                          1.0                          0.0   \n",
       "4                          0.0                          1.0   \n",
       "\n",
       "   Outlet_Type_Grocery Store  Outlet_Type_Supermarket Type1  \\\n",
       "0                        1.0                            0.0   \n",
       "1                        0.0                            1.0   \n",
       "2                        0.0                            0.0   \n",
       "3                        0.0                            1.0   \n",
       "4                        0.0                            1.0   \n",
       "\n",
       "   Outlet_Type_Supermarket Type2  Outlet_Type_Supermarket Type3  \n",
       "0                            0.0                            0.0  \n",
       "1                            0.0                            0.0  \n",
       "2                            0.0                            1.0  \n",
       "3                            0.0                            0.0  \n",
       "4                            0.0                            0.0  \n",
       "\n",
       "[5 rows x 1569 columns]"
      ]
     },
     "execution_count": 63,
     "metadata": {},
     "output_type": "execute_result"
    }
   ],
   "source": [
    "cat_features_train = X_train.select_dtypes(include = ['object'])\n",
    "X_train_cat_ohe = pd.DataFrame(ohe.transform(cat_features_train).toarray(),columns=ohe_features_names)\n",
    "X_train_cat_ohe.head()"
   ]
  },
  {
   "cell_type": "code",
   "execution_count": 64,
   "id": "a0cd3bc5",
   "metadata": {},
   "outputs": [
    {
     "data": {
      "text/html": [
       "<div>\n",
       "<style scoped>\n",
       "    .dataframe tbody tr th:only-of-type {\n",
       "        vertical-align: middle;\n",
       "    }\n",
       "\n",
       "    .dataframe tbody tr th {\n",
       "        vertical-align: top;\n",
       "    }\n",
       "\n",
       "    .dataframe thead th {\n",
       "        text-align: right;\n",
       "    }\n",
       "</style>\n",
       "<table border=\"1\" class=\"dataframe\">\n",
       "  <thead>\n",
       "    <tr style=\"text-align: right;\">\n",
       "      <th></th>\n",
       "      <th>Item_Weight</th>\n",
       "      <th>Item_Visibility</th>\n",
       "      <th>Item_MRP</th>\n",
       "      <th>Outlet_Establishment_Year</th>\n",
       "      <th>Item_Identifier_DRA12</th>\n",
       "      <th>Item_Identifier_DRA24</th>\n",
       "      <th>Item_Identifier_DRA59</th>\n",
       "      <th>Item_Identifier_DRB01</th>\n",
       "      <th>Item_Identifier_DRB13</th>\n",
       "      <th>Item_Identifier_DRB24</th>\n",
       "      <th>...</th>\n",
       "      <th>Outlet_Size_High</th>\n",
       "      <th>Outlet_Size_Medium</th>\n",
       "      <th>Outlet_Size_Small</th>\n",
       "      <th>Outlet_Location_Type_Tier 1</th>\n",
       "      <th>Outlet_Location_Type_Tier 2</th>\n",
       "      <th>Outlet_Location_Type_Tier 3</th>\n",
       "      <th>Outlet_Type_Grocery Store</th>\n",
       "      <th>Outlet_Type_Supermarket Type1</th>\n",
       "      <th>Outlet_Type_Supermarket Type2</th>\n",
       "      <th>Outlet_Type_Supermarket Type3</th>\n",
       "    </tr>\n",
       "  </thead>\n",
       "  <tbody>\n",
       "    <tr>\n",
       "      <th>0</th>\n",
       "      <td>7.72</td>\n",
       "      <td>0.147904</td>\n",
       "      <td>116.6466</td>\n",
       "      <td>1998</td>\n",
       "      <td>0.0</td>\n",
       "      <td>0.0</td>\n",
       "      <td>0.0</td>\n",
       "      <td>0.0</td>\n",
       "      <td>0.0</td>\n",
       "      <td>0.0</td>\n",
       "      <td>...</td>\n",
       "      <td>0.0</td>\n",
       "      <td>0.0</td>\n",
       "      <td>1.0</td>\n",
       "      <td>0.0</td>\n",
       "      <td>0.0</td>\n",
       "      <td>1.0</td>\n",
       "      <td>1.0</td>\n",
       "      <td>0.0</td>\n",
       "      <td>0.0</td>\n",
       "      <td>0.0</td>\n",
       "    </tr>\n",
       "    <tr>\n",
       "      <th>1</th>\n",
       "      <td>19.75</td>\n",
       "      <td>0.014301</td>\n",
       "      <td>103.0332</td>\n",
       "      <td>1997</td>\n",
       "      <td>0.0</td>\n",
       "      <td>0.0</td>\n",
       "      <td>0.0</td>\n",
       "      <td>0.0</td>\n",
       "      <td>0.0</td>\n",
       "      <td>0.0</td>\n",
       "      <td>...</td>\n",
       "      <td>0.0</td>\n",
       "      <td>0.0</td>\n",
       "      <td>1.0</td>\n",
       "      <td>1.0</td>\n",
       "      <td>0.0</td>\n",
       "      <td>0.0</td>\n",
       "      <td>0.0</td>\n",
       "      <td>1.0</td>\n",
       "      <td>0.0</td>\n",
       "      <td>0.0</td>\n",
       "    </tr>\n",
       "    <tr>\n",
       "      <th>2</th>\n",
       "      <td>12.80</td>\n",
       "      <td>0.054221</td>\n",
       "      <td>129.1310</td>\n",
       "      <td>1985</td>\n",
       "      <td>0.0</td>\n",
       "      <td>0.0</td>\n",
       "      <td>0.0</td>\n",
       "      <td>0.0</td>\n",
       "      <td>0.0</td>\n",
       "      <td>0.0</td>\n",
       "      <td>...</td>\n",
       "      <td>0.0</td>\n",
       "      <td>1.0</td>\n",
       "      <td>0.0</td>\n",
       "      <td>0.0</td>\n",
       "      <td>0.0</td>\n",
       "      <td>1.0</td>\n",
       "      <td>0.0</td>\n",
       "      <td>0.0</td>\n",
       "      <td>0.0</td>\n",
       "      <td>1.0</td>\n",
       "    </tr>\n",
       "    <tr>\n",
       "      <th>3</th>\n",
       "      <td>19.35</td>\n",
       "      <td>0.118342</td>\n",
       "      <td>222.6088</td>\n",
       "      <td>2002</td>\n",
       "      <td>0.0</td>\n",
       "      <td>0.0</td>\n",
       "      <td>0.0</td>\n",
       "      <td>0.0</td>\n",
       "      <td>0.0</td>\n",
       "      <td>0.0</td>\n",
       "      <td>...</td>\n",
       "      <td>0.0</td>\n",
       "      <td>0.0</td>\n",
       "      <td>1.0</td>\n",
       "      <td>0.0</td>\n",
       "      <td>1.0</td>\n",
       "      <td>0.0</td>\n",
       "      <td>0.0</td>\n",
       "      <td>1.0</td>\n",
       "      <td>0.0</td>\n",
       "      <td>0.0</td>\n",
       "    </tr>\n",
       "    <tr>\n",
       "      <th>4</th>\n",
       "      <td>18.35</td>\n",
       "      <td>0.092150</td>\n",
       "      <td>184.8266</td>\n",
       "      <td>1987</td>\n",
       "      <td>0.0</td>\n",
       "      <td>0.0</td>\n",
       "      <td>0.0</td>\n",
       "      <td>0.0</td>\n",
       "      <td>0.0</td>\n",
       "      <td>0.0</td>\n",
       "      <td>...</td>\n",
       "      <td>1.0</td>\n",
       "      <td>0.0</td>\n",
       "      <td>0.0</td>\n",
       "      <td>0.0</td>\n",
       "      <td>0.0</td>\n",
       "      <td>1.0</td>\n",
       "      <td>0.0</td>\n",
       "      <td>1.0</td>\n",
       "      <td>0.0</td>\n",
       "      <td>0.0</td>\n",
       "    </tr>\n",
       "  </tbody>\n",
       "</table>\n",
       "<p>5 rows × 1573 columns</p>\n",
       "</div>"
      ],
      "text/plain": [
       "   Item_Weight  Item_Visibility  Item_MRP  Outlet_Establishment_Year  \\\n",
       "0         7.72         0.147904  116.6466                       1998   \n",
       "1        19.75         0.014301  103.0332                       1997   \n",
       "2        12.80         0.054221  129.1310                       1985   \n",
       "3        19.35         0.118342  222.6088                       2002   \n",
       "4        18.35         0.092150  184.8266                       1987   \n",
       "\n",
       "   Item_Identifier_DRA12  Item_Identifier_DRA24  Item_Identifier_DRA59  \\\n",
       "0                    0.0                    0.0                    0.0   \n",
       "1                    0.0                    0.0                    0.0   \n",
       "2                    0.0                    0.0                    0.0   \n",
       "3                    0.0                    0.0                    0.0   \n",
       "4                    0.0                    0.0                    0.0   \n",
       "\n",
       "   Item_Identifier_DRB01  Item_Identifier_DRB13  Item_Identifier_DRB24  ...  \\\n",
       "0                    0.0                    0.0                    0.0  ...   \n",
       "1                    0.0                    0.0                    0.0  ...   \n",
       "2                    0.0                    0.0                    0.0  ...   \n",
       "3                    0.0                    0.0                    0.0  ...   \n",
       "4                    0.0                    0.0                    0.0  ...   \n",
       "\n",
       "   Outlet_Size_High  Outlet_Size_Medium  Outlet_Size_Small  \\\n",
       "0               0.0                 0.0                1.0   \n",
       "1               0.0                 0.0                1.0   \n",
       "2               0.0                 1.0                0.0   \n",
       "3               0.0                 0.0                1.0   \n",
       "4               1.0                 0.0                0.0   \n",
       "\n",
       "   Outlet_Location_Type_Tier 1  Outlet_Location_Type_Tier 2  \\\n",
       "0                          0.0                          0.0   \n",
       "1                          1.0                          0.0   \n",
       "2                          0.0                          0.0   \n",
       "3                          0.0                          1.0   \n",
       "4                          0.0                          0.0   \n",
       "\n",
       "   Outlet_Location_Type_Tier 3  Outlet_Type_Grocery Store  \\\n",
       "0                          1.0                        1.0   \n",
       "1                          0.0                        0.0   \n",
       "2                          1.0                        0.0   \n",
       "3                          0.0                        0.0   \n",
       "4                          1.0                        0.0   \n",
       "\n",
       "   Outlet_Type_Supermarket Type1  Outlet_Type_Supermarket Type2  \\\n",
       "0                            0.0                            0.0   \n",
       "1                            1.0                            0.0   \n",
       "2                            0.0                            0.0   \n",
       "3                            1.0                            0.0   \n",
       "4                            1.0                            0.0   \n",
       "\n",
       "   Outlet_Type_Supermarket Type3  \n",
       "0                            0.0  \n",
       "1                            0.0  \n",
       "2                            1.0  \n",
       "3                            0.0  \n",
       "4                            0.0  \n",
       "\n",
       "[5 rows x 1573 columns]"
      ]
     },
     "execution_count": 64,
     "metadata": {},
     "output_type": "execute_result"
    }
   ],
   "source": [
    "X_train_final = pd.concat([num_features_train,X_train_cat_ohe],axis=1)\n",
    "X_train_final.head()"
   ]
  },
  {
   "cell_type": "code",
   "execution_count": 65,
   "id": "6e881461",
   "metadata": {},
   "outputs": [],
   "source": [
    "final_columns = X_train_final.columns.values"
   ]
  },
  {
   "cell_type": "code",
   "execution_count": 66,
   "id": "7ac90464",
   "metadata": {},
   "outputs": [
    {
     "data": {
      "text/plain": [
       "array(['Item_Weight', 'Item_Visibility', 'Item_MRP', ...,\n",
       "       'Outlet_Type_Supermarket Type1', 'Outlet_Type_Supermarket Type2',\n",
       "       'Outlet_Type_Supermarket Type3'], dtype=object)"
      ]
     },
     "execution_count": 66,
     "metadata": {},
     "output_type": "execute_result"
    }
   ],
   "source": [
    "final_columns"
   ]
  },
  {
   "cell_type": "code",
   "execution_count": 67,
   "id": "e54e16c9",
   "metadata": {},
   "outputs": [
    {
     "data": {
      "text/html": [
       "<div>\n",
       "<style scoped>\n",
       "    .dataframe tbody tr th:only-of-type {\n",
       "        vertical-align: middle;\n",
       "    }\n",
       "\n",
       "    .dataframe tbody tr th {\n",
       "        vertical-align: top;\n",
       "    }\n",
       "\n",
       "    .dataframe thead th {\n",
       "        text-align: right;\n",
       "    }\n",
       "</style>\n",
       "<table border=\"1\" class=\"dataframe\">\n",
       "  <thead>\n",
       "    <tr style=\"text-align: right;\">\n",
       "      <th></th>\n",
       "      <th>Item_Weight</th>\n",
       "      <th>Item_Visibility</th>\n",
       "      <th>Item_MRP</th>\n",
       "      <th>Outlet_Establishment_Year</th>\n",
       "      <th>Item_Identifier_DRA12</th>\n",
       "      <th>Item_Identifier_DRA24</th>\n",
       "      <th>Item_Identifier_DRA59</th>\n",
       "      <th>Item_Identifier_DRB01</th>\n",
       "      <th>Item_Identifier_DRB13</th>\n",
       "      <th>Item_Identifier_DRB24</th>\n",
       "      <th>...</th>\n",
       "      <th>Outlet_Size_High</th>\n",
       "      <th>Outlet_Size_Medium</th>\n",
       "      <th>Outlet_Size_Small</th>\n",
       "      <th>Outlet_Location_Type_Tier 1</th>\n",
       "      <th>Outlet_Location_Type_Tier 2</th>\n",
       "      <th>Outlet_Location_Type_Tier 3</th>\n",
       "      <th>Outlet_Type_Grocery Store</th>\n",
       "      <th>Outlet_Type_Supermarket Type1</th>\n",
       "      <th>Outlet_Type_Supermarket Type2</th>\n",
       "      <th>Outlet_Type_Supermarket Type3</th>\n",
       "    </tr>\n",
       "  </thead>\n",
       "  <tbody>\n",
       "    <tr>\n",
       "      <th>0</th>\n",
       "      <td>14.300</td>\n",
       "      <td>0.026300</td>\n",
       "      <td>79.4302</td>\n",
       "      <td>1987</td>\n",
       "      <td>0.0</td>\n",
       "      <td>0.0</td>\n",
       "      <td>0.0</td>\n",
       "      <td>0.0</td>\n",
       "      <td>0.0</td>\n",
       "      <td>0.0</td>\n",
       "      <td>...</td>\n",
       "      <td>1.0</td>\n",
       "      <td>0.0</td>\n",
       "      <td>0.0</td>\n",
       "      <td>0.0</td>\n",
       "      <td>0.0</td>\n",
       "      <td>1.0</td>\n",
       "      <td>0.0</td>\n",
       "      <td>1.0</td>\n",
       "      <td>0.0</td>\n",
       "      <td>0.0</td>\n",
       "    </tr>\n",
       "    <tr>\n",
       "      <th>1</th>\n",
       "      <td>7.930</td>\n",
       "      <td>0.071136</td>\n",
       "      <td>42.7086</td>\n",
       "      <td>1997</td>\n",
       "      <td>0.0</td>\n",
       "      <td>0.0</td>\n",
       "      <td>0.0</td>\n",
       "      <td>0.0</td>\n",
       "      <td>0.0</td>\n",
       "      <td>0.0</td>\n",
       "      <td>...</td>\n",
       "      <td>0.0</td>\n",
       "      <td>0.0</td>\n",
       "      <td>1.0</td>\n",
       "      <td>1.0</td>\n",
       "      <td>0.0</td>\n",
       "      <td>0.0</td>\n",
       "      <td>0.0</td>\n",
       "      <td>1.0</td>\n",
       "      <td>0.0</td>\n",
       "      <td>0.0</td>\n",
       "    </tr>\n",
       "    <tr>\n",
       "      <th>2</th>\n",
       "      <td>14.500</td>\n",
       "      <td>0.041313</td>\n",
       "      <td>42.0454</td>\n",
       "      <td>1999</td>\n",
       "      <td>0.0</td>\n",
       "      <td>0.0</td>\n",
       "      <td>0.0</td>\n",
       "      <td>0.0</td>\n",
       "      <td>0.0</td>\n",
       "      <td>0.0</td>\n",
       "      <td>...</td>\n",
       "      <td>0.0</td>\n",
       "      <td>1.0</td>\n",
       "      <td>0.0</td>\n",
       "      <td>1.0</td>\n",
       "      <td>0.0</td>\n",
       "      <td>0.0</td>\n",
       "      <td>0.0</td>\n",
       "      <td>1.0</td>\n",
       "      <td>0.0</td>\n",
       "      <td>0.0</td>\n",
       "    </tr>\n",
       "    <tr>\n",
       "      <th>3</th>\n",
       "      <td>11.800</td>\n",
       "      <td>0.044767</td>\n",
       "      <td>173.7054</td>\n",
       "      <td>1985</td>\n",
       "      <td>0.0</td>\n",
       "      <td>0.0</td>\n",
       "      <td>0.0</td>\n",
       "      <td>0.0</td>\n",
       "      <td>0.0</td>\n",
       "      <td>0.0</td>\n",
       "      <td>...</td>\n",
       "      <td>0.0</td>\n",
       "      <td>1.0</td>\n",
       "      <td>0.0</td>\n",
       "      <td>0.0</td>\n",
       "      <td>0.0</td>\n",
       "      <td>1.0</td>\n",
       "      <td>0.0</td>\n",
       "      <td>0.0</td>\n",
       "      <td>0.0</td>\n",
       "      <td>1.0</td>\n",
       "    </tr>\n",
       "    <tr>\n",
       "      <th>4</th>\n",
       "      <td>10.195</td>\n",
       "      <td>0.012456</td>\n",
       "      <td>197.5110</td>\n",
       "      <td>2004</td>\n",
       "      <td>0.0</td>\n",
       "      <td>0.0</td>\n",
       "      <td>0.0</td>\n",
       "      <td>0.0</td>\n",
       "      <td>0.0</td>\n",
       "      <td>0.0</td>\n",
       "      <td>...</td>\n",
       "      <td>0.0</td>\n",
       "      <td>0.0</td>\n",
       "      <td>1.0</td>\n",
       "      <td>0.0</td>\n",
       "      <td>1.0</td>\n",
       "      <td>0.0</td>\n",
       "      <td>0.0</td>\n",
       "      <td>1.0</td>\n",
       "      <td>0.0</td>\n",
       "      <td>0.0</td>\n",
       "    </tr>\n",
       "  </tbody>\n",
       "</table>\n",
       "<p>5 rows × 1573 columns</p>\n",
       "</div>"
      ],
      "text/plain": [
       "   Item_Weight  Item_Visibility  Item_MRP  Outlet_Establishment_Year  \\\n",
       "0       14.300         0.026300   79.4302                       1987   \n",
       "1        7.930         0.071136   42.7086                       1997   \n",
       "2       14.500         0.041313   42.0454                       1999   \n",
       "3       11.800         0.044767  173.7054                       1985   \n",
       "4       10.195         0.012456  197.5110                       2004   \n",
       "\n",
       "   Item_Identifier_DRA12  Item_Identifier_DRA24  Item_Identifier_DRA59  \\\n",
       "0                    0.0                    0.0                    0.0   \n",
       "1                    0.0                    0.0                    0.0   \n",
       "2                    0.0                    0.0                    0.0   \n",
       "3                    0.0                    0.0                    0.0   \n",
       "4                    0.0                    0.0                    0.0   \n",
       "\n",
       "   Item_Identifier_DRB01  Item_Identifier_DRB13  Item_Identifier_DRB24  ...  \\\n",
       "0                    0.0                    0.0                    0.0  ...   \n",
       "1                    0.0                    0.0                    0.0  ...   \n",
       "2                    0.0                    0.0                    0.0  ...   \n",
       "3                    0.0                    0.0                    0.0  ...   \n",
       "4                    0.0                    0.0                    0.0  ...   \n",
       "\n",
       "   Outlet_Size_High  Outlet_Size_Medium  Outlet_Size_Small  \\\n",
       "0               1.0                 0.0                0.0   \n",
       "1               0.0                 0.0                1.0   \n",
       "2               0.0                 1.0                0.0   \n",
       "3               0.0                 1.0                0.0   \n",
       "4               0.0                 0.0                1.0   \n",
       "\n",
       "   Outlet_Location_Type_Tier 1  Outlet_Location_Type_Tier 2  \\\n",
       "0                          0.0                          0.0   \n",
       "1                          1.0                          0.0   \n",
       "2                          1.0                          0.0   \n",
       "3                          0.0                          0.0   \n",
       "4                          0.0                          1.0   \n",
       "\n",
       "   Outlet_Location_Type_Tier 3  Outlet_Type_Grocery Store  \\\n",
       "0                          1.0                        0.0   \n",
       "1                          0.0                        0.0   \n",
       "2                          0.0                        0.0   \n",
       "3                          1.0                        0.0   \n",
       "4                          0.0                        0.0   \n",
       "\n",
       "   Outlet_Type_Supermarket Type1  Outlet_Type_Supermarket Type2  \\\n",
       "0                            1.0                            0.0   \n",
       "1                            1.0                            0.0   \n",
       "2                            1.0                            0.0   \n",
       "3                            0.0                            0.0   \n",
       "4                            1.0                            0.0   \n",
       "\n",
       "   Outlet_Type_Supermarket Type3  \n",
       "0                            0.0  \n",
       "1                            0.0  \n",
       "2                            0.0  \n",
       "3                            1.0  \n",
       "4                            0.0  \n",
       "\n",
       "[5 rows x 1573 columns]"
      ]
     },
     "execution_count": 67,
     "metadata": {},
     "output_type": "execute_result"
    }
   ],
   "source": [
    "#Seprate the data types and transform the categorical features and concatinating num_features_test with X_tes_cat_ohe\n",
    "\n",
    "num_features_test = X_test.select_dtypes(exclude= ['object']).reset_index(drop=True)\n",
    "cat_features_test = X_test.select_dtypes(include= ['object'])\n",
    "X_test_cat_ohe = pd.DataFrame(ohe.transform(cat_features_test).toarray(),columns=ohe_features_names)\n",
    "X_test_final = pd.concat([num_features_test,X_test_cat_ohe],axis=1)\n",
    "X_test_final = X_test_final[final_columns]\n",
    "\n",
    "X_test_final.head()"
   ]
  },
  {
   "cell_type": "code",
   "execution_count": 68,
   "id": "2fb53fca",
   "metadata": {},
   "outputs": [
    {
     "data": {
      "text/plain": [
       "(2557, 1573)"
      ]
     },
     "execution_count": 68,
     "metadata": {},
     "output_type": "execute_result"
    }
   ],
   "source": [
    "X_test_final.shape"
   ]
  },
  {
   "cell_type": "markdown",
   "id": "0c44076e",
   "metadata": {},
   "source": [
    "<h2> Modeling"
   ]
  },
  {
   "cell_type": "code",
   "execution_count": 69,
   "id": "c0daa260",
   "metadata": {},
   "outputs": [
    {
     "data": {
      "text/plain": [
       "<AxesSubplot:xlabel='Item_Outlet_Sales', ylabel='Count'>"
      ]
     },
     "execution_count": 69,
     "metadata": {},
     "output_type": "execute_result"
    },
    {
     "data": {
      "image/png": "[encoded data removed]",
      "text/plain": [
       "<Figure size 640x480 with 1 Axes>"
      ]
     },
     "metadata": {},
     "output_type": "display_data"
    }
   ],
   "source": [
    "sns.histplot(Y_train)"
   ]
  },
  {
   "cell_type": "code",
   "execution_count": 70,
   "id": "dcd20472",
   "metadata": {},
   "outputs": [],
   "source": [
    "from sklearn.ensemble import RandomForestRegressor, GradientBoostingRegressor, HistGradientBoostingRegressor\n",
    "import xgboost as xgb\n",
    "from lightgbm import LGBMRegressor\n",
    "from sklearn.model_selection import cross_validate"
   ]
  },
  {
   "cell_type": "code",
   "execution_count": 71,
   "id": "a89d4d83",
   "metadata": {
    "scrolled": true
   },
   "outputs": [],
   "source": [
    "def train_and_eval_model(model,X_train,Y_train, cv = 5):\n",
    "    cv_results = cross_validate(model,X_train,Y_train, cv = cv, scoring = ('r2','neg_root_mean_squared_error'),)\n",
    "    print ('Model',model)\n",
    "    r2_scores = cv_results['test_r2']\n",
    "    print('R2 CV Scores:', r2_scores)\n",
    "    print('R2 CV scores mean / stdev:', np.mean(r2_scores), '/', np.std(r2_scores))\n",
    "    \n",
    "    rmse_scores = cv_results['test_neg_root_mean_squared_error']\n",
    "    rmse_scores = [-1*score for score in rmse_scores]\n",
    "    print('RMSE CV Scores:', rmse_scores)\n",
    "    print('RMSE CV Scores mean / stdev:', np.mean(rmse_scores),'/',np.std(rmse_scores))"
   ]
  },
  {
   "cell_type": "markdown",
   "id": "f7ccb39a",
   "metadata": {},
   "source": [
    "<h2> Handling Categorical Data without Item_Identifier - One hot Encoded"
   ]
  },
  {
   "cell_type": "code",
   "execution_count": 72,
   "id": "e29dd62d",
   "metadata": {},
   "outputs": [],
   "source": [
    "cat_feats = X_train.select_dtypes(include=['object']).drop(columns = 'Item_Identifier')\n",
    "ohe = OneHotEncoder(handle_unknown = 'ignore')\n",
    "ohe.fit(cat_feats)\n",
    "ohe_feature_names = ohe.get_feature_names_out(input_features = cat_feats.columns)"
   ]
  },
  {
   "cell_type": "code",
   "execution_count": 73,
   "id": "bf631f44",
   "metadata": {},
   "outputs": [
    {
     "data": {
      "text/html": [
       "<div>\n",
       "<style scoped>\n",
       "    .dataframe tbody tr th:only-of-type {\n",
       "        vertical-align: middle;\n",
       "    }\n",
       "\n",
       "    .dataframe tbody tr th {\n",
       "        vertical-align: top;\n",
       "    }\n",
       "\n",
       "    .dataframe thead th {\n",
       "        text-align: right;\n",
       "    }\n",
       "</style>\n",
       "<table border=\"1\" class=\"dataframe\">\n",
       "  <thead>\n",
       "    <tr style=\"text-align: right;\">\n",
       "      <th></th>\n",
       "      <th>Item_Weight</th>\n",
       "      <th>Item_Visibility</th>\n",
       "      <th>Item_MRP</th>\n",
       "      <th>Outlet_Establishment_Year</th>\n",
       "      <th>Item_Fat_Content_Low_Fat</th>\n",
       "      <th>Item_Fat_Content_Non_Edible</th>\n",
       "      <th>Item_Fat_Content_Regular</th>\n",
       "      <th>Item_Type_Drinks</th>\n",
       "      <th>Item_Type_Food</th>\n",
       "      <th>Item_Type_Non_Consumables</th>\n",
       "      <th>...</th>\n",
       "      <th>Outlet_Size_High</th>\n",
       "      <th>Outlet_Size_Medium</th>\n",
       "      <th>Outlet_Size_Small</th>\n",
       "      <th>Outlet_Location_Type_Tier 1</th>\n",
       "      <th>Outlet_Location_Type_Tier 2</th>\n",
       "      <th>Outlet_Location_Type_Tier 3</th>\n",
       "      <th>Outlet_Type_Grocery Store</th>\n",
       "      <th>Outlet_Type_Supermarket Type1</th>\n",
       "      <th>Outlet_Type_Supermarket Type2</th>\n",
       "      <th>Outlet_Type_Supermarket Type3</th>\n",
       "    </tr>\n",
       "  </thead>\n",
       "  <tbody>\n",
       "    <tr>\n",
       "      <th>0</th>\n",
       "      <td>7.72</td>\n",
       "      <td>0.147904</td>\n",
       "      <td>116.6466</td>\n",
       "      <td>1998</td>\n",
       "      <td>0.0</td>\n",
       "      <td>0.0</td>\n",
       "      <td>1.0</td>\n",
       "      <td>0.0</td>\n",
       "      <td>1.0</td>\n",
       "      <td>0.0</td>\n",
       "      <td>...</td>\n",
       "      <td>0.0</td>\n",
       "      <td>0.0</td>\n",
       "      <td>1.0</td>\n",
       "      <td>0.0</td>\n",
       "      <td>0.0</td>\n",
       "      <td>1.0</td>\n",
       "      <td>1.0</td>\n",
       "      <td>0.0</td>\n",
       "      <td>0.0</td>\n",
       "      <td>0.0</td>\n",
       "    </tr>\n",
       "    <tr>\n",
       "      <th>1</th>\n",
       "      <td>19.75</td>\n",
       "      <td>0.014301</td>\n",
       "      <td>103.0332</td>\n",
       "      <td>1997</td>\n",
       "      <td>0.0</td>\n",
       "      <td>1.0</td>\n",
       "      <td>0.0</td>\n",
       "      <td>0.0</td>\n",
       "      <td>0.0</td>\n",
       "      <td>1.0</td>\n",
       "      <td>...</td>\n",
       "      <td>0.0</td>\n",
       "      <td>0.0</td>\n",
       "      <td>1.0</td>\n",
       "      <td>1.0</td>\n",
       "      <td>0.0</td>\n",
       "      <td>0.0</td>\n",
       "      <td>0.0</td>\n",
       "      <td>1.0</td>\n",
       "      <td>0.0</td>\n",
       "      <td>0.0</td>\n",
       "    </tr>\n",
       "    <tr>\n",
       "      <th>2</th>\n",
       "      <td>12.80</td>\n",
       "      <td>0.054221</td>\n",
       "      <td>129.1310</td>\n",
       "      <td>1985</td>\n",
       "      <td>0.0</td>\n",
       "      <td>0.0</td>\n",
       "      <td>1.0</td>\n",
       "      <td>0.0</td>\n",
       "      <td>1.0</td>\n",
       "      <td>0.0</td>\n",
       "      <td>...</td>\n",
       "      <td>0.0</td>\n",
       "      <td>1.0</td>\n",
       "      <td>0.0</td>\n",
       "      <td>0.0</td>\n",
       "      <td>0.0</td>\n",
       "      <td>1.0</td>\n",
       "      <td>0.0</td>\n",
       "      <td>0.0</td>\n",
       "      <td>0.0</td>\n",
       "      <td>1.0</td>\n",
       "    </tr>\n",
       "    <tr>\n",
       "      <th>3</th>\n",
       "      <td>19.35</td>\n",
       "      <td>0.118342</td>\n",
       "      <td>222.6088</td>\n",
       "      <td>2002</td>\n",
       "      <td>1.0</td>\n",
       "      <td>0.0</td>\n",
       "      <td>0.0</td>\n",
       "      <td>0.0</td>\n",
       "      <td>1.0</td>\n",
       "      <td>0.0</td>\n",
       "      <td>...</td>\n",
       "      <td>0.0</td>\n",
       "      <td>0.0</td>\n",
       "      <td>1.0</td>\n",
       "      <td>0.0</td>\n",
       "      <td>1.0</td>\n",
       "      <td>0.0</td>\n",
       "      <td>0.0</td>\n",
       "      <td>1.0</td>\n",
       "      <td>0.0</td>\n",
       "      <td>0.0</td>\n",
       "    </tr>\n",
       "    <tr>\n",
       "      <th>4</th>\n",
       "      <td>18.35</td>\n",
       "      <td>0.092150</td>\n",
       "      <td>184.8266</td>\n",
       "      <td>1987</td>\n",
       "      <td>0.0</td>\n",
       "      <td>0.0</td>\n",
       "      <td>1.0</td>\n",
       "      <td>0.0</td>\n",
       "      <td>1.0</td>\n",
       "      <td>0.0</td>\n",
       "      <td>...</td>\n",
       "      <td>1.0</td>\n",
       "      <td>0.0</td>\n",
       "      <td>0.0</td>\n",
       "      <td>0.0</td>\n",
       "      <td>0.0</td>\n",
       "      <td>1.0</td>\n",
       "      <td>0.0</td>\n",
       "      <td>1.0</td>\n",
       "      <td>0.0</td>\n",
       "      <td>0.0</td>\n",
       "    </tr>\n",
       "  </tbody>\n",
       "</table>\n",
       "<p>5 rows × 30 columns</p>\n",
       "</div>"
      ],
      "text/plain": [
       "   Item_Weight  Item_Visibility  Item_MRP  Outlet_Establishment_Year  \\\n",
       "0         7.72         0.147904  116.6466                       1998   \n",
       "1        19.75         0.014301  103.0332                       1997   \n",
       "2        12.80         0.054221  129.1310                       1985   \n",
       "3        19.35         0.118342  222.6088                       2002   \n",
       "4        18.35         0.092150  184.8266                       1987   \n",
       "\n",
       "   Item_Fat_Content_Low_Fat  Item_Fat_Content_Non_Edible  \\\n",
       "0                       0.0                          0.0   \n",
       "1                       0.0                          1.0   \n",
       "2                       0.0                          0.0   \n",
       "3                       1.0                          0.0   \n",
       "4                       0.0                          0.0   \n",
       "\n",
       "   Item_Fat_Content_Regular  Item_Type_Drinks  Item_Type_Food  \\\n",
       "0                       1.0               0.0             1.0   \n",
       "1                       0.0               0.0             0.0   \n",
       "2                       1.0               0.0             1.0   \n",
       "3                       0.0               0.0             1.0   \n",
       "4                       1.0               0.0             1.0   \n",
       "\n",
       "   Item_Type_Non_Consumables  ...  Outlet_Size_High  Outlet_Size_Medium  \\\n",
       "0                        0.0  ...               0.0                 0.0   \n",
       "1                        1.0  ...               0.0                 0.0   \n",
       "2                        0.0  ...               0.0                 1.0   \n",
       "3                        0.0  ...               0.0                 0.0   \n",
       "4                        0.0  ...               1.0                 0.0   \n",
       "\n",
       "   Outlet_Size_Small  Outlet_Location_Type_Tier 1  \\\n",
       "0                1.0                          0.0   \n",
       "1                1.0                          1.0   \n",
       "2                0.0                          0.0   \n",
       "3                1.0                          0.0   \n",
       "4                0.0                          0.0   \n",
       "\n",
       "   Outlet_Location_Type_Tier 2  Outlet_Location_Type_Tier 3  \\\n",
       "0                          0.0                          1.0   \n",
       "1                          0.0                          0.0   \n",
       "2                          0.0                          1.0   \n",
       "3                          1.0                          0.0   \n",
       "4                          0.0                          1.0   \n",
       "\n",
       "   Outlet_Type_Grocery Store  Outlet_Type_Supermarket Type1  \\\n",
       "0                        1.0                            0.0   \n",
       "1                        0.0                            1.0   \n",
       "2                        0.0                            0.0   \n",
       "3                        0.0                            1.0   \n",
       "4                        0.0                            1.0   \n",
       "\n",
       "   Outlet_Type_Supermarket Type2  Outlet_Type_Supermarket Type3  \n",
       "0                            0.0                            0.0  \n",
       "1                            0.0                            0.0  \n",
       "2                            0.0                            1.0  \n",
       "3                            0.0                            0.0  \n",
       "4                            0.0                            0.0  \n",
       "\n",
       "[5 rows x 30 columns]"
      ]
     },
     "execution_count": 73,
     "metadata": {},
     "output_type": "execute_result"
    }
   ],
   "source": [
    "num_feats_train = X_train.select_dtypes(exclude=['object']).reset_index(drop=True)\n",
    "cat_feats_train = X_train.select_dtypes(include=['object']).drop(columns = ['Item_Identifier'])\n",
    "X_train_cat_ohe = pd.DataFrame(ohe.transform(cat_feats_train).toarray(),columns=ohe_feature_names)\n",
    "X_train_final = pd.concat([num_feats_train, X_train_cat_ohe], axis=1)\n",
    "\n",
    "X_train_final.head()"
   ]
  },
  {
   "cell_type": "code",
   "execution_count": 74,
   "id": "bb9aac25",
   "metadata": {},
   "outputs": [
    {
     "data": {
      "text/plain": [
       "(5966, 30)"
      ]
     },
     "execution_count": 74,
     "metadata": {},
     "output_type": "execute_result"
    }
   ],
   "source": [
    "X_train_final.shape"
   ]
  },
  {
   "cell_type": "code",
   "execution_count": 75,
   "id": "50478842",
   "metadata": {},
   "outputs": [
    {
     "name": "stdout",
     "output_type": "stream",
     "text": [
      "Model GradientBoostingRegressor(random_state=42)\n",
      "R2 CV Scores: [0.6041804  0.58438048 0.58762463 0.62389778 0.57481794]\n",
      "R2 CV scores mean / stdev: 0.5949802453520936 / 0.01728493581675094\n",
      "RMSE CV Scores: [1060.0266792918649, 1095.0929737973222, 1121.2510747873034, 1060.3776729426581, 1131.57085634834]\n",
      "RMSE CV Scores mean / stdev: 1093.6638514334977 / 29.797541284231123\n"
     ]
    }
   ],
   "source": [
    "SEED=42\n",
    "gb = GradientBoostingRegressor(random_state= SEED)\n",
    "train_and_eval_model(model=gb, X_train=X_train_final, Y_train=Y_train)"
   ]
  },
  {
   "cell_type": "code",
   "execution_count": 76,
   "id": "055703c9",
   "metadata": {},
   "outputs": [
    {
     "name": "stdout",
     "output_type": "stream",
     "text": [
      "Model HistGradientBoostingRegressor(random_state=42)\n",
      "R2 CV Scores: [0.58815491 0.54895006 0.55004131 0.58665649 0.54418843]\n",
      "R2 CV scores mean / stdev: 0.5635982423744614 / 0.019543864873815386\n",
      "RMSE CV Scores: [1081.2723378509593, 1140.8152997438422, 1171.231744842289, 1111.6374875671404, 1171.6204952410717]\n",
      "RMSE CV Scores mean / stdev: 1135.3154730490605 / 34.98453592112486\n"
     ]
    }
   ],
   "source": [
    "hgb = HistGradientBoostingRegressor(random_state=SEED)\n",
    "train_and_eval_model(model=hgb, X_train=X_train_final, Y_train=Y_train)"
   ]
  },
  {
   "cell_type": "code",
   "execution_count": 77,
   "id": "e9dc9b10",
   "metadata": {},
   "outputs": [
    {
     "name": "stdout",
     "output_type": "stream",
     "text": [
      "[08:30:16] WARNING: C:\\buildkite-agent\\builds\\buildkite-windows-cpu-autoscaling-group-i-07593ffd91cd9da33-1\\xgboost\\xgboost-ci-windows\\src\\learner.cc:767: \n",
      "Parameters: { \"rnadom_state\" } are not used.\n",
      "\n",
      "[08:30:17] WARNING: C:\\buildkite-agent\\builds\\buildkite-windows-cpu-autoscaling-group-i-07593ffd91cd9da33-1\\xgboost\\xgboost-ci-windows\\src\\learner.cc:767: \n",
      "Parameters: { \"rnadom_state\" } are not used.\n",
      "\n",
      "[08:30:17] WARNING: C:\\buildkite-agent\\builds\\buildkite-windows-cpu-autoscaling-group-i-07593ffd91cd9da33-1\\xgboost\\xgboost-ci-windows\\src\\learner.cc:767: \n",
      "Parameters: { \"rnadom_state\" } are not used.\n",
      "\n",
      "[08:30:18] WARNING: C:\\buildkite-agent\\builds\\buildkite-windows-cpu-autoscaling-group-i-07593ffd91cd9da33-1\\xgboost\\xgboost-ci-windows\\src\\learner.cc:767: \n",
      "Parameters: { \"rnadom_state\" } are not used.\n",
      "\n",
      "[08:30:19] WARNING: C:\\buildkite-agent\\builds\\buildkite-windows-cpu-autoscaling-group-i-07593ffd91cd9da33-1\\xgboost\\xgboost-ci-windows\\src\\learner.cc:767: \n",
      "Parameters: { \"rnadom_state\" } are not used.\n",
      "\n",
      "Model XGBRegressor(base_score=None, booster=None, callbacks=None,\n",
      "             colsample_bylevel=None, colsample_bynode=None,\n",
      "             colsample_bytree=None, early_stopping_rounds=None,\n",
      "             enable_categorical=False, eval_metric=None, feature_types=None,\n",
      "             gamma=None, gpu_id=None, grow_policy=None, importance_type=None,\n",
      "             interaction_constraints=None, learning_rate=None, max_bin=None,\n",
      "             max_cat_threshold=None, max_cat_to_onehot=None,\n",
      "             max_delta_step=None, max_depth=None, max_leaves=None,\n",
      "             min_child_weight=None, missing=nan, monotone_constraints=None,\n",
      "             n_estimators=100, n_jobs=None, num_parallel_tree=None,\n",
      "             predictor=None, random_state=None, ...)\n",
      "R2 CV Scores: [0.53237279 0.49021968 0.51037142 0.51393962 0.49449032]\n",
      "R2 CV scores mean / stdev: 0.5082787669273106 / 0.015054556785951093\n",
      "RMSE CV Scores: [1152.1739000503824, 1212.8149812339834, 1221.7712349100134, 1205.4598056491654, 1233.8405199129345]\n",
      "RMSE CV Scores mean / stdev: 1205.2120883512957 / 28.159215865222365\n"
     ]
    }
   ],
   "source": [
    "xgr = xgb.XGBRegressor(objective = 'reg:squarederror', rnadom_state=SEED)\n",
    "train_and_eval_model(model=xgr, X_train=X_train_final, Y_train=Y_train)"
   ]
  },
  {
   "cell_type": "code",
   "execution_count": 78,
   "id": "b3916195",
   "metadata": {},
   "outputs": [
    {
     "name": "stdout",
     "output_type": "stream",
     "text": [
      "Model LGBMRegressor(random_state=42)\n",
      "R2 CV Scores: [0.58585451 0.55844792 0.55401427 0.59124072 0.53449858]\n",
      "R2 CV scores mean / stdev: 0.5648112001928395 / 0.021058302012837954\n",
      "RMSE CV Scores: [1084.2879125560519, 1128.7401894490577, 1166.04952316014, 1105.455937304808, 1184.0084312547822]\n",
      "RMSE CV Scores mean / stdev: 1133.708398744968 / 36.99002766992896\n"
     ]
    }
   ],
   "source": [
    "lgbr = LGBMRegressor(random_state = SEED)\n",
    "train_and_eval_model(model=lgbr, X_train=X_train_final, Y_train=Y_train)"
   ]
  },
  {
   "cell_type": "code",
   "execution_count": 79,
   "id": "1eb73511",
   "metadata": {
    "scrolled": true
   },
   "outputs": [
    {
     "name": "stdout",
     "output_type": "stream",
     "text": [
      "[08:30:21] WARNING: C:\\buildkite-agent\\builds\\buildkite-windows-cpu-autoscaling-group-i-07593ffd91cd9da33-1\\xgboost\\xgboost-ci-windows\\src\\learner.cc:767: \n",
      "Parameters: { \"rnadom_state\" } are not used.\n",
      "\n"
     ]
    },
    {
     "data": {
      "text/plain": [
       "XGBRegressor(base_score=None, booster=None, callbacks=None,\n",
       "             colsample_bylevel=None, colsample_bynode=None,\n",
       "             colsample_bytree=None, early_stopping_rounds=None,\n",
       "             enable_categorical=False, eval_metric=None, feature_types=None,\n",
       "             gamma=None, gpu_id=None, grow_policy=None, importance_type=None,\n",
       "             interaction_constraints=None, learning_rate=None, max_bin=None,\n",
       "             max_cat_threshold=None, max_cat_to_onehot=None,\n",
       "             max_delta_step=None, max_depth=None, max_leaves=None,\n",
       "             min_child_weight=None, missing=nan, monotone_constraints=None,\n",
       "             n_estimators=100, n_jobs=None, num_parallel_tree=None,\n",
       "             predictor=None, random_state=None, ...)"
      ]
     },
     "execution_count": 79,
     "metadata": {},
     "output_type": "execute_result"
    }
   ],
   "source": [
    "xgr = xgb.XGBRegressor(objective = 'reg:squarederror', rnadom_state=SEED)\n",
    "xgr.fit(X_train_final, Y_train)"
   ]
  },
  {
   "cell_type": "markdown",
   "id": "82860f84",
   "metadata": {},
   "source": [
    "<h1> Handling Categorical Data with Vectors"
   ]
  },
  {
   "cell_type": "code",
   "execution_count": 80,
   "id": "5ce43d33",
   "metadata": {},
   "outputs": [
    {
     "data": {
      "text/plain": [
       "1921    FDN08\n",
       "655     NCJ42\n",
       "2229    FDY47\n",
       "2537    FDN45\n",
       "3528    FDY16\n",
       "Name: Item_Identifier, dtype: object"
      ]
     },
     "execution_count": 80,
     "metadata": {},
     "output_type": "execute_result"
    }
   ],
   "source": [
    "X_train['Item_Identifier'].head()"
   ]
  },
  {
   "cell_type": "code",
   "execution_count": 81,
   "id": "8c832960",
   "metadata": {},
   "outputs": [
    {
     "data": {
      "text/html": [
       "<div>\n",
       "<style scoped>\n",
       "    .dataframe tbody tr th:only-of-type {\n",
       "        vertical-align: middle;\n",
       "    }\n",
       "\n",
       "    .dataframe tbody tr th {\n",
       "        vertical-align: top;\n",
       "    }\n",
       "\n",
       "    .dataframe thead th {\n",
       "        text-align: right;\n",
       "    }\n",
       "</style>\n",
       "<table border=\"1\" class=\"dataframe\">\n",
       "  <thead>\n",
       "    <tr style=\"text-align: right;\">\n",
       "      <th></th>\n",
       "      <th>H0</th>\n",
       "      <th>H1</th>\n",
       "      <th>H2</th>\n",
       "      <th>H3</th>\n",
       "      <th>H4</th>\n",
       "      <th>H5</th>\n",
       "      <th>H6</th>\n",
       "      <th>H7</th>\n",
       "      <th>H8</th>\n",
       "      <th>H9</th>\n",
       "      <th>...</th>\n",
       "      <th>H40</th>\n",
       "      <th>H41</th>\n",
       "      <th>H42</th>\n",
       "      <th>H43</th>\n",
       "      <th>H44</th>\n",
       "      <th>H45</th>\n",
       "      <th>H46</th>\n",
       "      <th>H47</th>\n",
       "      <th>H48</th>\n",
       "      <th>H49</th>\n",
       "    </tr>\n",
       "  </thead>\n",
       "  <tbody>\n",
       "    <tr>\n",
       "      <th>0</th>\n",
       "      <td>0.0</td>\n",
       "      <td>0.0</td>\n",
       "      <td>0.0</td>\n",
       "      <td>0.0</td>\n",
       "      <td>0.0</td>\n",
       "      <td>0.0</td>\n",
       "      <td>0.0</td>\n",
       "      <td>0.0</td>\n",
       "      <td>-1.0</td>\n",
       "      <td>0.0</td>\n",
       "      <td>...</td>\n",
       "      <td>0.0</td>\n",
       "      <td>0.0</td>\n",
       "      <td>0.0</td>\n",
       "      <td>-1.0</td>\n",
       "      <td>0.0</td>\n",
       "      <td>0.0</td>\n",
       "      <td>0.0</td>\n",
       "      <td>0.0</td>\n",
       "      <td>0.0</td>\n",
       "      <td>0.0</td>\n",
       "    </tr>\n",
       "    <tr>\n",
       "      <th>1</th>\n",
       "      <td>0.0</td>\n",
       "      <td>1.0</td>\n",
       "      <td>0.0</td>\n",
       "      <td>0.0</td>\n",
       "      <td>0.0</td>\n",
       "      <td>0.0</td>\n",
       "      <td>0.0</td>\n",
       "      <td>0.0</td>\n",
       "      <td>0.0</td>\n",
       "      <td>0.0</td>\n",
       "      <td>...</td>\n",
       "      <td>0.0</td>\n",
       "      <td>0.0</td>\n",
       "      <td>0.0</td>\n",
       "      <td>0.0</td>\n",
       "      <td>0.0</td>\n",
       "      <td>0.0</td>\n",
       "      <td>0.0</td>\n",
       "      <td>0.0</td>\n",
       "      <td>0.0</td>\n",
       "      <td>0.0</td>\n",
       "    </tr>\n",
       "    <tr>\n",
       "      <th>2</th>\n",
       "      <td>0.0</td>\n",
       "      <td>0.0</td>\n",
       "      <td>0.0</td>\n",
       "      <td>0.0</td>\n",
       "      <td>0.0</td>\n",
       "      <td>0.0</td>\n",
       "      <td>0.0</td>\n",
       "      <td>0.0</td>\n",
       "      <td>-1.0</td>\n",
       "      <td>0.0</td>\n",
       "      <td>...</td>\n",
       "      <td>0.0</td>\n",
       "      <td>0.0</td>\n",
       "      <td>0.0</td>\n",
       "      <td>0.0</td>\n",
       "      <td>0.0</td>\n",
       "      <td>0.0</td>\n",
       "      <td>0.0</td>\n",
       "      <td>0.0</td>\n",
       "      <td>0.0</td>\n",
       "      <td>0.0</td>\n",
       "    </tr>\n",
       "    <tr>\n",
       "      <th>3</th>\n",
       "      <td>0.0</td>\n",
       "      <td>0.0</td>\n",
       "      <td>0.0</td>\n",
       "      <td>0.0</td>\n",
       "      <td>0.0</td>\n",
       "      <td>0.0</td>\n",
       "      <td>0.0</td>\n",
       "      <td>0.0</td>\n",
       "      <td>-1.0</td>\n",
       "      <td>0.0</td>\n",
       "      <td>...</td>\n",
       "      <td>0.0</td>\n",
       "      <td>0.0</td>\n",
       "      <td>0.0</td>\n",
       "      <td>0.0</td>\n",
       "      <td>0.0</td>\n",
       "      <td>0.0</td>\n",
       "      <td>0.0</td>\n",
       "      <td>0.0</td>\n",
       "      <td>0.0</td>\n",
       "      <td>0.0</td>\n",
       "    </tr>\n",
       "    <tr>\n",
       "      <th>4</th>\n",
       "      <td>0.0</td>\n",
       "      <td>0.0</td>\n",
       "      <td>0.0</td>\n",
       "      <td>0.0</td>\n",
       "      <td>0.0</td>\n",
       "      <td>0.0</td>\n",
       "      <td>0.0</td>\n",
       "      <td>-1.0</td>\n",
       "      <td>-1.0</td>\n",
       "      <td>0.0</td>\n",
       "      <td>...</td>\n",
       "      <td>0.0</td>\n",
       "      <td>0.0</td>\n",
       "      <td>0.0</td>\n",
       "      <td>0.0</td>\n",
       "      <td>0.0</td>\n",
       "      <td>0.0</td>\n",
       "      <td>0.0</td>\n",
       "      <td>0.0</td>\n",
       "      <td>0.0</td>\n",
       "      <td>0.0</td>\n",
       "    </tr>\n",
       "  </tbody>\n",
       "</table>\n",
       "<p>5 rows × 50 columns</p>\n",
       "</div>"
      ],
      "text/plain": [
       "    H0   H1   H2   H3   H4   H5   H6   H7   H8   H9  ...  H40  H41  H42  H43  \\\n",
       "0  0.0  0.0  0.0  0.0  0.0  0.0  0.0  0.0 -1.0  0.0  ...  0.0  0.0  0.0 -1.0   \n",
       "1  0.0  1.0  0.0  0.0  0.0  0.0  0.0  0.0  0.0  0.0  ...  0.0  0.0  0.0  0.0   \n",
       "2  0.0  0.0  0.0  0.0  0.0  0.0  0.0  0.0 -1.0  0.0  ...  0.0  0.0  0.0  0.0   \n",
       "3  0.0  0.0  0.0  0.0  0.0  0.0  0.0  0.0 -1.0  0.0  ...  0.0  0.0  0.0  0.0   \n",
       "4  0.0  0.0  0.0  0.0  0.0  0.0  0.0 -1.0 -1.0  0.0  ...  0.0  0.0  0.0  0.0   \n",
       "\n",
       "   H44  H45  H46  H47  H48  H49  \n",
       "0  0.0  0.0  0.0  0.0  0.0  0.0  \n",
       "1  0.0  0.0  0.0  0.0  0.0  0.0  \n",
       "2  0.0  0.0  0.0  0.0  0.0  0.0  \n",
       "3  0.0  0.0  0.0  0.0  0.0  0.0  \n",
       "4  0.0  0.0  0.0  0.0  0.0  0.0  \n",
       "\n",
       "[5 rows x 50 columns]"
      ]
     },
     "execution_count": 81,
     "metadata": {},
     "output_type": "execute_result"
    }
   ],
   "source": [
    "hash_vector_size = 50\n",
    "fh = FeatureHasher(n_features=hash_vector_size, input_type='string')\n",
    "hashed_df = pd.DataFrame(fh.transform(X_train['Item_Identifier']).toarray(),\n",
    "                        columns = ['H'+str(i) for i in range(hash_vector_size)])\n",
    "hashed_df.head()"
   ]
  },
  {
   "cell_type": "code",
   "execution_count": 82,
   "id": "c2462023",
   "metadata": {},
   "outputs": [],
   "source": [
    "cat_feats = X_train.select_dtypes(include = ['object']).drop(columns = ['Item_Identifier'])\n",
    "ohe = OneHotEncoder(handle_unknown = 'ignore')\n",
    "ohe.fit(cat_feats)\n",
    "ohe_feature_names = ohe.get_feature_names_out(input_features=cat_feats.columns)"
   ]
  },
  {
   "cell_type": "code",
   "execution_count": 83,
   "id": "5502d710",
   "metadata": {},
   "outputs": [
    {
     "data": {
      "text/html": [
       "<div>\n",
       "<style scoped>\n",
       "    .dataframe tbody tr th:only-of-type {\n",
       "        vertical-align: middle;\n",
       "    }\n",
       "\n",
       "    .dataframe tbody tr th {\n",
       "        vertical-align: top;\n",
       "    }\n",
       "\n",
       "    .dataframe thead th {\n",
       "        text-align: right;\n",
       "    }\n",
       "</style>\n",
       "<table border=\"1\" class=\"dataframe\">\n",
       "  <thead>\n",
       "    <tr style=\"text-align: right;\">\n",
       "      <th></th>\n",
       "      <th>Item_Weight</th>\n",
       "      <th>Item_Visibility</th>\n",
       "      <th>Item_MRP</th>\n",
       "      <th>Outlet_Establishment_Year</th>\n",
       "      <th>H0</th>\n",
       "      <th>H1</th>\n",
       "      <th>H2</th>\n",
       "      <th>H3</th>\n",
       "      <th>H4</th>\n",
       "      <th>H5</th>\n",
       "      <th>...</th>\n",
       "      <th>Outlet_Size_High</th>\n",
       "      <th>Outlet_Size_Medium</th>\n",
       "      <th>Outlet_Size_Small</th>\n",
       "      <th>Outlet_Location_Type_Tier 1</th>\n",
       "      <th>Outlet_Location_Type_Tier 2</th>\n",
       "      <th>Outlet_Location_Type_Tier 3</th>\n",
       "      <th>Outlet_Type_Grocery Store</th>\n",
       "      <th>Outlet_Type_Supermarket Type1</th>\n",
       "      <th>Outlet_Type_Supermarket Type2</th>\n",
       "      <th>Outlet_Type_Supermarket Type3</th>\n",
       "    </tr>\n",
       "  </thead>\n",
       "  <tbody>\n",
       "    <tr>\n",
       "      <th>0</th>\n",
       "      <td>7.72</td>\n",
       "      <td>0.147904</td>\n",
       "      <td>116.6466</td>\n",
       "      <td>1998</td>\n",
       "      <td>0.0</td>\n",
       "      <td>0.0</td>\n",
       "      <td>0.0</td>\n",
       "      <td>0.0</td>\n",
       "      <td>0.0</td>\n",
       "      <td>0.0</td>\n",
       "      <td>...</td>\n",
       "      <td>0.0</td>\n",
       "      <td>0.0</td>\n",
       "      <td>1.0</td>\n",
       "      <td>0.0</td>\n",
       "      <td>0.0</td>\n",
       "      <td>1.0</td>\n",
       "      <td>1.0</td>\n",
       "      <td>0.0</td>\n",
       "      <td>0.0</td>\n",
       "      <td>0.0</td>\n",
       "    </tr>\n",
       "    <tr>\n",
       "      <th>1</th>\n",
       "      <td>19.75</td>\n",
       "      <td>0.014301</td>\n",
       "      <td>103.0332</td>\n",
       "      <td>1997</td>\n",
       "      <td>0.0</td>\n",
       "      <td>1.0</td>\n",
       "      <td>0.0</td>\n",
       "      <td>0.0</td>\n",
       "      <td>0.0</td>\n",
       "      <td>0.0</td>\n",
       "      <td>...</td>\n",
       "      <td>0.0</td>\n",
       "      <td>0.0</td>\n",
       "      <td>1.0</td>\n",
       "      <td>1.0</td>\n",
       "      <td>0.0</td>\n",
       "      <td>0.0</td>\n",
       "      <td>0.0</td>\n",
       "      <td>1.0</td>\n",
       "      <td>0.0</td>\n",
       "      <td>0.0</td>\n",
       "    </tr>\n",
       "    <tr>\n",
       "      <th>2</th>\n",
       "      <td>12.80</td>\n",
       "      <td>0.054221</td>\n",
       "      <td>129.1310</td>\n",
       "      <td>1985</td>\n",
       "      <td>0.0</td>\n",
       "      <td>0.0</td>\n",
       "      <td>0.0</td>\n",
       "      <td>0.0</td>\n",
       "      <td>0.0</td>\n",
       "      <td>0.0</td>\n",
       "      <td>...</td>\n",
       "      <td>0.0</td>\n",
       "      <td>1.0</td>\n",
       "      <td>0.0</td>\n",
       "      <td>0.0</td>\n",
       "      <td>0.0</td>\n",
       "      <td>1.0</td>\n",
       "      <td>0.0</td>\n",
       "      <td>0.0</td>\n",
       "      <td>0.0</td>\n",
       "      <td>1.0</td>\n",
       "    </tr>\n",
       "    <tr>\n",
       "      <th>3</th>\n",
       "      <td>19.35</td>\n",
       "      <td>0.118342</td>\n",
       "      <td>222.6088</td>\n",
       "      <td>2002</td>\n",
       "      <td>0.0</td>\n",
       "      <td>0.0</td>\n",
       "      <td>0.0</td>\n",
       "      <td>0.0</td>\n",
       "      <td>0.0</td>\n",
       "      <td>0.0</td>\n",
       "      <td>...</td>\n",
       "      <td>0.0</td>\n",
       "      <td>0.0</td>\n",
       "      <td>1.0</td>\n",
       "      <td>0.0</td>\n",
       "      <td>1.0</td>\n",
       "      <td>0.0</td>\n",
       "      <td>0.0</td>\n",
       "      <td>1.0</td>\n",
       "      <td>0.0</td>\n",
       "      <td>0.0</td>\n",
       "    </tr>\n",
       "    <tr>\n",
       "      <th>4</th>\n",
       "      <td>18.35</td>\n",
       "      <td>0.092150</td>\n",
       "      <td>184.8266</td>\n",
       "      <td>1987</td>\n",
       "      <td>0.0</td>\n",
       "      <td>0.0</td>\n",
       "      <td>0.0</td>\n",
       "      <td>0.0</td>\n",
       "      <td>0.0</td>\n",
       "      <td>0.0</td>\n",
       "      <td>...</td>\n",
       "      <td>1.0</td>\n",
       "      <td>0.0</td>\n",
       "      <td>0.0</td>\n",
       "      <td>0.0</td>\n",
       "      <td>0.0</td>\n",
       "      <td>1.0</td>\n",
       "      <td>0.0</td>\n",
       "      <td>1.0</td>\n",
       "      <td>0.0</td>\n",
       "      <td>0.0</td>\n",
       "    </tr>\n",
       "  </tbody>\n",
       "</table>\n",
       "<p>5 rows × 80 columns</p>\n",
       "</div>"
      ],
      "text/plain": [
       "   Item_Weight  Item_Visibility  Item_MRP  Outlet_Establishment_Year   H0  \\\n",
       "0         7.72         0.147904  116.6466                       1998  0.0   \n",
       "1        19.75         0.014301  103.0332                       1997  0.0   \n",
       "2        12.80         0.054221  129.1310                       1985  0.0   \n",
       "3        19.35         0.118342  222.6088                       2002  0.0   \n",
       "4        18.35         0.092150  184.8266                       1987  0.0   \n",
       "\n",
       "    H1   H2   H3   H4   H5  ...  Outlet_Size_High  Outlet_Size_Medium  \\\n",
       "0  0.0  0.0  0.0  0.0  0.0  ...               0.0                 0.0   \n",
       "1  1.0  0.0  0.0  0.0  0.0  ...               0.0                 0.0   \n",
       "2  0.0  0.0  0.0  0.0  0.0  ...               0.0                 1.0   \n",
       "3  0.0  0.0  0.0  0.0  0.0  ...               0.0                 0.0   \n",
       "4  0.0  0.0  0.0  0.0  0.0  ...               1.0                 0.0   \n",
       "\n",
       "   Outlet_Size_Small  Outlet_Location_Type_Tier 1  \\\n",
       "0                1.0                          0.0   \n",
       "1                1.0                          1.0   \n",
       "2                0.0                          0.0   \n",
       "3                1.0                          0.0   \n",
       "4                0.0                          0.0   \n",
       "\n",
       "   Outlet_Location_Type_Tier 2  Outlet_Location_Type_Tier 3  \\\n",
       "0                          0.0                          1.0   \n",
       "1                          0.0                          0.0   \n",
       "2                          0.0                          1.0   \n",
       "3                          1.0                          0.0   \n",
       "4                          0.0                          1.0   \n",
       "\n",
       "   Outlet_Type_Grocery Store  Outlet_Type_Supermarket Type1  \\\n",
       "0                        1.0                            0.0   \n",
       "1                        0.0                            1.0   \n",
       "2                        0.0                            0.0   \n",
       "3                        0.0                            1.0   \n",
       "4                        0.0                            1.0   \n",
       "\n",
       "   Outlet_Type_Supermarket Type2  Outlet_Type_Supermarket Type3  \n",
       "0                            0.0                            0.0  \n",
       "1                            0.0                            0.0  \n",
       "2                            0.0                            1.0  \n",
       "3                            0.0                            0.0  \n",
       "4                            0.0                            0.0  \n",
       "\n",
       "[5 rows x 80 columns]"
      ]
     },
     "execution_count": 83,
     "metadata": {},
     "output_type": "execute_result"
    }
   ],
   "source": [
    "num_feats_train = X_train.select_dtypes(exclude=['object']).reset_index(drop=True)\n",
    "cat_feats_train = X_train.select_dtypes(include=['object']).drop(columns = ['Item_Identifier'])\n",
    "X_train_cat_ohe = pd.DataFrame(ohe.transform(cat_feats_train).toarray(),columns=ohe_feature_names)\n",
    "X_train_final = pd.concat([num_feats_train, hashed_df, X_train_cat_ohe], axis=1)\n",
    "\n",
    "X_train_final.head()"
   ]
  },
  {
   "cell_type": "code",
   "execution_count": 84,
   "id": "bf3aeb04",
   "metadata": {},
   "outputs": [
    {
     "name": "stdout",
     "output_type": "stream",
     "text": [
      "Model GradientBoostingRegressor(random_state=42)\n",
      "R2 CV Scores: [0.60855875 0.587366   0.5810046  0.62783138 0.57510432]\n",
      "R2 CV scores mean / stdev: 0.5959730112193707 / 0.019529425464717563\n",
      "RMSE CV Scores: [1054.1476399474934, 1091.1526815140976, 1130.2151935656525, 1054.8179293497578, 1131.1897115703541]\n",
      "RMSE CV Scores mean / stdev: 1092.3046311894711 / 34.09338938686088\n"
     ]
    }
   ],
   "source": [
    "gb = GradientBoostingRegressor(random_state= SEED)\n",
    "train_and_eval_model(model=gb, X_train=X_train_final, Y_train=Y_train)"
   ]
  },
  {
   "cell_type": "code",
   "execution_count": 85,
   "id": "6d518211",
   "metadata": {},
   "outputs": [
    {
     "name": "stdout",
     "output_type": "stream",
     "text": [
      "Model HistGradientBoostingRegressor(random_state=42)\n",
      "R2 CV Scores: [0.5764088  0.5491504  0.54524293 0.59281047 0.54521676]\n",
      "R2 CV scores mean / stdev: 0.5617658726723558 / 0.019412435321322037\n",
      "RMSE CV Scores: [1096.5832593271898, 1140.5619137375313, 1177.4602214750348, 1103.3312665361711, 1170.2981415593495]\n",
      "RMSE CV Scores mean / stdev: 1137.6469605270554 / 33.2369876271682\n"
     ]
    }
   ],
   "source": [
    "hgb = HistGradientBoostingRegressor(random_state=SEED)\n",
    "train_and_eval_model(model=hgb, X_train=X_train_final, Y_train=Y_train)"
   ]
  },
  {
   "cell_type": "code",
   "execution_count": 86,
   "id": "3dea8eb4",
   "metadata": {},
   "outputs": [
    {
     "name": "stdout",
     "output_type": "stream",
     "text": [
      "[08:30:52] WARNING: C:\\buildkite-agent\\builds\\buildkite-windows-cpu-autoscaling-group-i-07593ffd91cd9da33-1\\xgboost\\xgboost-ci-windows\\src\\learner.cc:767: \n",
      "Parameters: { \"rnadom_state\" } are not used.\n",
      "\n",
      "[08:30:53] WARNING: C:\\buildkite-agent\\builds\\buildkite-windows-cpu-autoscaling-group-i-07593ffd91cd9da33-1\\xgboost\\xgboost-ci-windows\\src\\learner.cc:767: \n",
      "Parameters: { \"rnadom_state\" } are not used.\n",
      "\n",
      "[08:30:53] WARNING: C:\\buildkite-agent\\builds\\buildkite-windows-cpu-autoscaling-group-i-07593ffd91cd9da33-1\\xgboost\\xgboost-ci-windows\\src\\learner.cc:767: \n",
      "Parameters: { \"rnadom_state\" } are not used.\n",
      "\n",
      "[08:30:54] WARNING: C:\\buildkite-agent\\builds\\buildkite-windows-cpu-autoscaling-group-i-07593ffd91cd9da33-1\\xgboost\\xgboost-ci-windows\\src\\learner.cc:767: \n",
      "Parameters: { \"rnadom_state\" } are not used.\n",
      "\n",
      "[08:30:55] WARNING: C:\\buildkite-agent\\builds\\buildkite-windows-cpu-autoscaling-group-i-07593ffd91cd9da33-1\\xgboost\\xgboost-ci-windows\\src\\learner.cc:767: \n",
      "Parameters: { \"rnadom_state\" } are not used.\n",
      "\n",
      "Model XGBRegressor(base_score=None, booster=None, callbacks=None,\n",
      "             colsample_bylevel=None, colsample_bynode=None,\n",
      "             colsample_bytree=None, early_stopping_rounds=None,\n",
      "             enable_categorical=False, eval_metric=None, feature_types=None,\n",
      "             gamma=None, gpu_id=None, grow_policy=None, importance_type=None,\n",
      "             interaction_constraints=None, learning_rate=None, max_bin=None,\n",
      "             max_cat_threshold=None, max_cat_to_onehot=None,\n",
      "             max_delta_step=None, max_depth=None, max_leaves=None,\n",
      "             min_child_weight=None, missing=nan, monotone_constraints=None,\n",
      "             n_estimators=100, n_jobs=None, num_parallel_tree=None,\n",
      "             predictor=None, random_state=None, ...)\n",
      "R2 CV Scores: [0.54616735 0.48032646 0.49354658 0.52692354 0.47734235]\n",
      "R2 CV scores mean / stdev: 0.5048612557158314 / 0.02713007899601627\n",
      "RMSE CV Scores: [1135.0526720209357, 1224.526880039559, 1242.5854652991068, 1189.2503704373898, 1254.5932463037614]\n",
      "RMSE CV Scores mean / stdev: 1209.2017268201505 / 43.14131037924\n"
     ]
    }
   ],
   "source": [
    "xgr = xgb.XGBRegressor(objective = 'reg:squarederror', rnadom_state=SEED)\n",
    "train_and_eval_model(model=xgr, X_train=X_train_final, Y_train=Y_train)"
   ]
  },
  {
   "cell_type": "code",
   "execution_count": 87,
   "id": "e4b5c55e",
   "metadata": {},
   "outputs": [
    {
     "name": "stdout",
     "output_type": "stream",
     "text": [
      "Model LGBMRegressor(random_state=42)\n",
      "R2 CV Scores: [0.57351002 0.55688884 0.54738915 0.59183971 0.53718479]\n",
      "R2 CV scores mean / stdev: 0.5613625045025867 / 0.019371381677688492\n",
      "RMSE CV Scores: [1100.3290088461758, 1130.7311699941479, 1174.678428956044, 1104.645681341176, 1180.5872784239004]\n",
      "RMSE CV Scores mean / stdev: 1138.1943135122888 / 33.89172371801983\n"
     ]
    }
   ],
   "source": [
    "lgbr = LGBMRegressor(random_state = SEED)\n",
    "train_and_eval_model(model=lgbr, X_train=X_train_final, Y_train=Y_train)"
   ]
  },
  {
   "cell_type": "code",
   "execution_count": 88,
   "id": "9c4dc51a",
   "metadata": {},
   "outputs": [
    {
     "data": {
      "text/html": [
       "<div>\n",
       "<style scoped>\n",
       "    .dataframe tbody tr th:only-of-type {\n",
       "        vertical-align: middle;\n",
       "    }\n",
       "\n",
       "    .dataframe tbody tr th {\n",
       "        vertical-align: top;\n",
       "    }\n",
       "\n",
       "    .dataframe thead th {\n",
       "        text-align: right;\n",
       "    }\n",
       "</style>\n",
       "<table border=\"1\" class=\"dataframe\">\n",
       "  <thead>\n",
       "    <tr style=\"text-align: right;\">\n",
       "      <th></th>\n",
       "      <th>Item_Weight</th>\n",
       "      <th>Item_Visibility</th>\n",
       "      <th>Item_MRP</th>\n",
       "      <th>Outlet_Establishment_Year</th>\n",
       "      <th>H0</th>\n",
       "      <th>H1</th>\n",
       "      <th>H2</th>\n",
       "      <th>H3</th>\n",
       "      <th>H4</th>\n",
       "      <th>H5</th>\n",
       "      <th>...</th>\n",
       "      <th>Outlet_Size_High</th>\n",
       "      <th>Outlet_Size_Medium</th>\n",
       "      <th>Outlet_Size_Small</th>\n",
       "      <th>Outlet_Location_Type_Tier 1</th>\n",
       "      <th>Outlet_Location_Type_Tier 2</th>\n",
       "      <th>Outlet_Location_Type_Tier 3</th>\n",
       "      <th>Outlet_Type_Grocery Store</th>\n",
       "      <th>Outlet_Type_Supermarket Type1</th>\n",
       "      <th>Outlet_Type_Supermarket Type2</th>\n",
       "      <th>Outlet_Type_Supermarket Type3</th>\n",
       "    </tr>\n",
       "  </thead>\n",
       "  <tbody>\n",
       "    <tr>\n",
       "      <th>0</th>\n",
       "      <td>14.300</td>\n",
       "      <td>0.026300</td>\n",
       "      <td>79.4302</td>\n",
       "      <td>1987</td>\n",
       "      <td>0.0</td>\n",
       "      <td>0.0</td>\n",
       "      <td>0.0</td>\n",
       "      <td>0.0</td>\n",
       "      <td>1.0</td>\n",
       "      <td>0.0</td>\n",
       "      <td>...</td>\n",
       "      <td>1.0</td>\n",
       "      <td>0.0</td>\n",
       "      <td>0.0</td>\n",
       "      <td>0.0</td>\n",
       "      <td>0.0</td>\n",
       "      <td>1.0</td>\n",
       "      <td>0.0</td>\n",
       "      <td>1.0</td>\n",
       "      <td>0.0</td>\n",
       "      <td>0.0</td>\n",
       "    </tr>\n",
       "    <tr>\n",
       "      <th>1</th>\n",
       "      <td>7.930</td>\n",
       "      <td>0.071136</td>\n",
       "      <td>42.7086</td>\n",
       "      <td>1997</td>\n",
       "      <td>0.0</td>\n",
       "      <td>0.0</td>\n",
       "      <td>0.0</td>\n",
       "      <td>0.0</td>\n",
       "      <td>0.0</td>\n",
       "      <td>0.0</td>\n",
       "      <td>...</td>\n",
       "      <td>0.0</td>\n",
       "      <td>0.0</td>\n",
       "      <td>1.0</td>\n",
       "      <td>1.0</td>\n",
       "      <td>0.0</td>\n",
       "      <td>0.0</td>\n",
       "      <td>0.0</td>\n",
       "      <td>1.0</td>\n",
       "      <td>0.0</td>\n",
       "      <td>0.0</td>\n",
       "    </tr>\n",
       "    <tr>\n",
       "      <th>2</th>\n",
       "      <td>14.500</td>\n",
       "      <td>0.041313</td>\n",
       "      <td>42.0454</td>\n",
       "      <td>1999</td>\n",
       "      <td>0.0</td>\n",
       "      <td>0.0</td>\n",
       "      <td>0.0</td>\n",
       "      <td>0.0</td>\n",
       "      <td>0.0</td>\n",
       "      <td>0.0</td>\n",
       "      <td>...</td>\n",
       "      <td>0.0</td>\n",
       "      <td>1.0</td>\n",
       "      <td>0.0</td>\n",
       "      <td>1.0</td>\n",
       "      <td>0.0</td>\n",
       "      <td>0.0</td>\n",
       "      <td>0.0</td>\n",
       "      <td>1.0</td>\n",
       "      <td>0.0</td>\n",
       "      <td>0.0</td>\n",
       "    </tr>\n",
       "    <tr>\n",
       "      <th>3</th>\n",
       "      <td>11.800</td>\n",
       "      <td>0.044767</td>\n",
       "      <td>173.7054</td>\n",
       "      <td>1985</td>\n",
       "      <td>1.0</td>\n",
       "      <td>0.0</td>\n",
       "      <td>0.0</td>\n",
       "      <td>0.0</td>\n",
       "      <td>0.0</td>\n",
       "      <td>0.0</td>\n",
       "      <td>...</td>\n",
       "      <td>0.0</td>\n",
       "      <td>1.0</td>\n",
       "      <td>0.0</td>\n",
       "      <td>0.0</td>\n",
       "      <td>0.0</td>\n",
       "      <td>1.0</td>\n",
       "      <td>0.0</td>\n",
       "      <td>0.0</td>\n",
       "      <td>0.0</td>\n",
       "      <td>1.0</td>\n",
       "    </tr>\n",
       "    <tr>\n",
       "      <th>4</th>\n",
       "      <td>10.195</td>\n",
       "      <td>0.012456</td>\n",
       "      <td>197.5110</td>\n",
       "      <td>2004</td>\n",
       "      <td>0.0</td>\n",
       "      <td>0.0</td>\n",
       "      <td>0.0</td>\n",
       "      <td>0.0</td>\n",
       "      <td>0.0</td>\n",
       "      <td>0.0</td>\n",
       "      <td>...</td>\n",
       "      <td>0.0</td>\n",
       "      <td>0.0</td>\n",
       "      <td>1.0</td>\n",
       "      <td>0.0</td>\n",
       "      <td>1.0</td>\n",
       "      <td>0.0</td>\n",
       "      <td>0.0</td>\n",
       "      <td>1.0</td>\n",
       "      <td>0.0</td>\n",
       "      <td>0.0</td>\n",
       "    </tr>\n",
       "  </tbody>\n",
       "</table>\n",
       "<p>5 rows × 80 columns</p>\n",
       "</div>"
      ],
      "text/plain": [
       "   Item_Weight  Item_Visibility  Item_MRP  Outlet_Establishment_Year   H0  \\\n",
       "0       14.300         0.026300   79.4302                       1987  0.0   \n",
       "1        7.930         0.071136   42.7086                       1997  0.0   \n",
       "2       14.500         0.041313   42.0454                       1999  0.0   \n",
       "3       11.800         0.044767  173.7054                       1985  1.0   \n",
       "4       10.195         0.012456  197.5110                       2004  0.0   \n",
       "\n",
       "    H1   H2   H3   H4   H5  ...  Outlet_Size_High  Outlet_Size_Medium  \\\n",
       "0  0.0  0.0  0.0  1.0  0.0  ...               1.0                 0.0   \n",
       "1  0.0  0.0  0.0  0.0  0.0  ...               0.0                 0.0   \n",
       "2  0.0  0.0  0.0  0.0  0.0  ...               0.0                 1.0   \n",
       "3  0.0  0.0  0.0  0.0  0.0  ...               0.0                 1.0   \n",
       "4  0.0  0.0  0.0  0.0  0.0  ...               0.0                 0.0   \n",
       "\n",
       "   Outlet_Size_Small  Outlet_Location_Type_Tier 1  \\\n",
       "0                0.0                          0.0   \n",
       "1                1.0                          1.0   \n",
       "2                0.0                          1.0   \n",
       "3                0.0                          0.0   \n",
       "4                1.0                          0.0   \n",
       "\n",
       "   Outlet_Location_Type_Tier 2  Outlet_Location_Type_Tier 3  \\\n",
       "0                          0.0                          1.0   \n",
       "1                          0.0                          0.0   \n",
       "2                          0.0                          0.0   \n",
       "3                          0.0                          1.0   \n",
       "4                          1.0                          0.0   \n",
       "\n",
       "   Outlet_Type_Grocery Store  Outlet_Type_Supermarket Type1  \\\n",
       "0                        0.0                            1.0   \n",
       "1                        0.0                            1.0   \n",
       "2                        0.0                            1.0   \n",
       "3                        0.0                            0.0   \n",
       "4                        0.0                            1.0   \n",
       "\n",
       "   Outlet_Type_Supermarket Type2  Outlet_Type_Supermarket Type3  \n",
       "0                            0.0                            0.0  \n",
       "1                            0.0                            0.0  \n",
       "2                            0.0                            0.0  \n",
       "3                            0.0                            1.0  \n",
       "4                            0.0                            0.0  \n",
       "\n",
       "[5 rows x 80 columns]"
      ]
     },
     "execution_count": 88,
     "metadata": {},
     "output_type": "execute_result"
    }
   ],
   "source": [
    "hashed_test_df = pd.DataFrame(fh.transform(X_test['Item_Identifier']).toarray(),\n",
    "                             columns = ['H'+str(i) for i in range (hash_vector_size)])\n",
    "num_feats_test = X_test.select_dtypes(exclude=['object']).reset_index(drop=True)\n",
    "cat_feats_test = X_test.select_dtypes(include=['object']).drop(columns=['Item_Identifier'])\n",
    "X_test_cat_ohe = pd.DataFrame(ohe.transform(cat_feats_test).toarray(),columns=ohe_feature_names)\n",
    "X_test_final = pd.concat([num_feats_test, hashed_test_df, X_test_cat_ohe],axis=1)\n",
    "X_test_final.head()"
   ]
  },
  {
   "cell_type": "code",
   "execution_count": 99,
   "id": "1a73d778",
   "metadata": {},
   "outputs": [
    {
     "data": {
      "text/plain": [
       "HistGradientBoostingRegressor(random_state=42)"
      ]
     },
     "execution_count": 99,
     "metadata": {},
     "output_type": "execute_result"
    }
   ],
   "source": [
    "\n",
    "gb = HistGradientBoostingRegressor(random_state=SEED)\n",
    "gb.fit(X_train_final, Y_train)\n"
   ]
  },
  {
   "cell_type": "code",
   "execution_count": 100,
   "id": "4c91b171",
   "metadata": {},
   "outputs": [
    {
     "data": {
      "text/plain": [
       "(2557, 80)"
      ]
     },
     "execution_count": 100,
     "metadata": {},
     "output_type": "execute_result"
    }
   ],
   "source": [
    "X_test_final.shape"
   ]
  },
  {
   "cell_type": "code",
   "execution_count": 101,
   "id": "382e3bfb",
   "metadata": {},
   "outputs": [],
   "source": [
    "y_pred = gb.predict(X_test_final)"
   ]
  },
  {
   "cell_type": "code",
   "execution_count": 102,
   "id": "f0c314eb",
   "metadata": {},
   "outputs": [
    {
     "name": "stdout",
     "output_type": "stream",
     "text": [
      "r2 scores: 0.5792465962386549\n",
      "RMSE scores: 1085.600092368649\n"
     ]
    }
   ],
   "source": [
    "print(\"r2 scores:\", r2_score(Y_test,y_pred))\n",
    "print(\"RMSE scores:\", mean_squared_error(Y_test,y_pred,squared = False))\n"
   ]
  },
  {
   "cell_type": "code",
   "execution_count": 103,
   "id": "d034bb43",
   "metadata": {},
   "outputs": [
    {
     "data": {
      "image/png": "[encoded data removed]",
      "text/plain": [
       "<Figure size 2000x1000 with 1 Axes>"
      ]
     },
     "metadata": {},
     "output_type": "display_data"
    }
   ],
   "source": [
    "fig, ax = plt.subplots(1, 1, figsize=(20, 10))\n",
    "plot_importance(xgr.get_booster(), ax=ax)  # Plot feature importances\n",
    "plt.show()"
   ]
  }
 ],
 "metadata": {
  "kernelspec": {
   "display_name": "Python 3 (ipykernel)",
   "language": "python",
   "name": "python3"
  },
  "language_info": {
   "codemirror_mode": {
    "name": "ipython",
    "version": 3
   },
   "file_extension": ".py",
   "mimetype": "text/x-python",
   "name": "python",
   "nbconvert_exporter": "python",
   "pygments_lexer": "ipython3",
   "version": "3.9.13"
  }
 },
 "nbformat": 4,
 "nbformat_minor": 5
}
